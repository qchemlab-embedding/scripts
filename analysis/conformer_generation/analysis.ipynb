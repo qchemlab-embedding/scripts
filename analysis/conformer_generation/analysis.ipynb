{
 "cells": [
  {
   "cell_type": "markdown",
   "metadata": {},
   "source": [
    "# Generating conformers in RDKit"
   ]
  },
  {
   "cell_type": "code",
   "execution_count": 1,
   "metadata": {
    "collapsed": false,
    "jupyter": {
     "outputs_hidden": false
    }
   },
   "outputs": [
    {
     "name": "stdout",
     "output_type": "stream",
     "text": [
      "2023.03.3\n"
     ]
    }
   ],
   "source": [
    "import os\n",
    "import glob\n",
    "import py3Dmol\n",
    "import numpy as np\n",
    "%matplotlib inline \n",
    "\n",
    "from rdkit import Chem\n",
    "from rdkit.Chem import AllChem\n",
    "from rdkit import rdBase\n",
    "print(rdBase.rdkitVersion)"
   ]
  },
  {
   "cell_type": "code",
   "execution_count": 2,
   "metadata": {},
   "outputs": [],
   "source": [
    "# Functions used in this notebook\n",
    "\n",
    "def align_structures_to_lowest_energy_and_show(moldict, energy_dict, core_smiles):\n",
    "    \"\"\"\n",
    "    align all structures in \"moldict\" to the one of the lowest energy\n",
    "    \"\"\"\n",
    "    energy_sorted = sorted(energy_dict.items(), key=lambda x: x[1])\n",
    "    lowest = energy_sorted[0][0]\n",
    "    core_lowest = moldict[lowest].GetSubstructMatch(Chem.MolFromSmiles(core_smiles))\n",
    "    \n",
    "    for key, mol in moldict.items():\n",
    "        match_mol_to_core = mol.GetSubstructMatch(Chem.MolFromSmiles(core_smiles))\n",
    "        AllChem.AlignMol(mol,moldict[lowest],atomMap=list(zip(match_mol_to_core,core_lowest)))\n",
    "        \n",
    "    p = py3Dmol.view(width=400,height=400)\n",
    "    for key, mol in moldict.items(): \n",
    "        mb = Chem.MolToMolBlock(mol)\n",
    "        p.addModel(mb,'sdf')\n",
    "    p.setStyle({'stick':{'radius':'0.15'}})\n",
    "    p.setBackgroundColor('0xeeeeee')\n",
    "    p.zoomTo()\n",
    "    return p\n",
    "\n",
    "\n",
    "\n",
    "def from_molfiles_to_moldict(inpfiles, prefix):\n",
    "    moldict = {}\n",
    "    for id, inp in enumerate(inpfiles):\n",
    "        mol = Chem.MolFromMolFile(inp)\n",
    "        mol = Chem.AddHs(mol)\n",
    "        name = prefix + str(id)\n",
    "        moldict[name] = mol\n",
    "    return moldict\n",
    "    \n",
    "def grep_energies_from_sdf_outputs(files):\n",
    "    energies = {}\n",
    "    for inp in files:\n",
    "        with open(inp,'r') as f:\n",
    "            lines = f.readlines()\n",
    "            for i, line in enumerate(lines):\n",
    "                if \"M  END\" in line:\n",
    "                    energies[os.path.splitext(os.path.basename(inp))[0]] = float(lines[i+1])\n",
    "    return energies\n",
    "\n",
    "def make_similarity_matrix(moldict):\n",
    "    # similarity_matrix only between macrocycles (h2o not taken into account)\n",
    "    similarity_matrix = {}\n",
    "    \n",
    "    for k_1, m_1 in moldict.items():\n",
    "        for k_2, m_2 in moldict.items():\n",
    "            if (k_1, k_2) in similarity_matrix.keys() or (k_2, k_1) in similarity_matrix.keys():\n",
    "                # do not work on the same conformers\n",
    "                pass\n",
    "            else:\n",
    "                if k_1 != k_2:\n",
    "                    rms = AllChem.GetBestRMS(m_1,m_2)\n",
    "                    similarity_matrix[(k_1, k_2)] = rms \n",
    "                    \n",
    "    return similarity_matrix\n",
    "\n",
    "\n",
    "def find_atoms(moldict):\n",
    "    \n",
    "    O_h2o     = {}\n",
    "    H_h2o     = {}        \n",
    "    O_amide   = {}\n",
    "    H_amide   = {}\n",
    "    N_amide   = {}\n",
    "    N_arom    = {}\n",
    "        \n",
    "    for k, m in moldict.items():\n",
    "        Oa  = []\n",
    "        Hh  = []\n",
    "        Ha  = []\n",
    "        Nar = []\n",
    "        Na  = []\n",
    "\n",
    "        for atom in m.GetAtoms():\n",
    "            \n",
    "#           remember atom numbering from 0 if you compare with e.g. Avogadro\n",
    "\n",
    "            # oxygen atoms:\n",
    "            if atom.GetAtomicNum() == 8:\n",
    "                if all(x.GetAtomicNum() == 1 for x in atom.GetNeighbors()):\n",
    "                    O_h2o[k] = atom.GetIdx()\n",
    "                else:\n",
    "                    Oa.append(atom.GetIdx())\n",
    "                    \n",
    "            # hydrogen atoms:\n",
    "            if atom.GetAtomicNum() == 1:\n",
    "                if all(x.GetAtomicNum() == 8 for x in atom.GetNeighbors()):\n",
    "                    Hh.append(atom.GetIdx())\n",
    "                elif all(x.GetAtomicNum() == 7 for x in atom.GetNeighbors()):\n",
    "                    Ha.append(atom.GetIdx())\n",
    "                    \n",
    "            # nitrogen atoms:\n",
    "            if atom.GetAtomicNum() == 7:\n",
    "                if all(x.GetAtomicNum() == 6 for x in atom.GetNeighbors()):\n",
    "                    Nar.append(atom.GetIdx())\n",
    "                else:\n",
    "                    Na.append(atom.GetIdx())                    \n",
    "            \n",
    "            O_amide[k] = Oa\n",
    "            H_h2o[k]   = Hh\n",
    "            H_amide[k] = Ha\n",
    "            N_amide[k] = Na\n",
    "            N_arom[k]  = Nar\n",
    "                    \n",
    "    return O_h2o, O_amide, H_h2o, H_amide, N_amide, N_arom    \n",
    "\n",
    "def get_distances(moldict, O_h2o, O_amide, H_h2o, H_amide, N_amide, N_arom):\n",
    "    \n",
    "    dist_Oh2o_Hamide = {}\n",
    "    dist_Hh2o_Narom = {}\n",
    "    dist_Hh2o_Oamide = {}\n",
    "    dist_Hh2o_Namide = {}\n",
    "    \n",
    "    for k, m in moldict.items():\n",
    "        dm = Chem.Get3DDistanceMatrix(m)\n",
    "        \n",
    "        dist1 = []\n",
    "        for h_idx in H_amide[k]:\n",
    "            dist1.append(dm[O_h2o[k],h_idx])\n",
    "        dist_Oh2o_Hamide[k] = sorted(dist1)\n",
    "        \n",
    "        dist2 = []\n",
    "        dist3 = []\n",
    "        dist4 = []        \n",
    "        for h_idx in H_h2o[k]:\n",
    "            for n1_idx in N_arom[k]:\n",
    "                dist2.append(dm[n1_idx,h_idx])\n",
    "            for n2_idx in N_amide[k]:\n",
    "                dist3.append(dm[n2_idx,h_idx])\n",
    "            for o_idx in O_amide[k]:\n",
    "                dist4.append(dm[o_idx,h_idx])                \n",
    "\n",
    "        dist_Hh2o_Narom[k]  = sorted(dist2)\n",
    "        dist_Hh2o_Namide[k] = sorted(dist3)\n",
    "        dist_Hh2o_Oamide[k] = sorted(dist4)            \n",
    "        \n",
    "    return dist_Oh2o_Hamide, dist_Hh2o_Narom, dist_Hh2o_Namide, dist_Hh2o_Oamide\n",
    "\n",
    "\n",
    "def find_duplicates_in_sorted_similarity_matrix_noncovalent(similarity_matrix_sorted,\n",
    "                                                            energy,\n",
    "                                                            dist_Oh2o_Hamide,\n",
    "                                                            dist_Hh2o_Narom,\n",
    "                                                            dist_Hh2o_Namide,\n",
    "                                                            dist_Hh2o_Oamide):\n",
    "    \n",
    "    similarity_thresh = 1.0 # Angstrom\n",
    "    energy_thresh     = 5   # kcal/mol\n",
    "    distance_thresh   = 1.0 # Angstrom\n",
    "    \n",
    "    to_be_deleted     = []\n",
    "    \n",
    "    for pair in similarity_matrix_sorted:\n",
    "        if pair[1] < similarity_thresh:\n",
    "            conf1 = pair[0][0]\n",
    "            conf2 = pair[0][1]\n",
    "            # now check minimum and maximum distances:\n",
    "            if (abs(dist_Oh2o_Hamide[conf1][0]  - dist_Oh2o_Hamide[conf2][0]) < distance_thresh and \n",
    "                abs(dist_Oh2o_Hamide[conf1][-1] - dist_Oh2o_Hamide[conf2][-1]) < distance_thresh and\n",
    "                abs(dist_Hh2o_Narom[conf1][0]   - dist_Hh2o_Narom[conf2][0]) < distance_thresh and \n",
    "                abs(dist_Hh2o_Narom[conf1][-1]  - dist_Hh2o_Narom[conf2][-1]) < distance_thresh and\n",
    "                abs(dist_Hh2o_Namide[conf1][0]  - dist_Hh2o_Namide[conf2][0]) < distance_thresh and \n",
    "                abs(dist_Hh2o_Namide[conf1][-1] - dist_Hh2o_Namide[conf2][-1]) < distance_thresh and\n",
    "                abs(dist_Hh2o_Oamide[conf1][0]  - dist_Hh2o_Oamide[conf2][0]) < distance_thresh and \n",
    "                abs(dist_Hh2o_Oamide[conf1][-1] - dist_Hh2o_Oamide[conf2][-1]) < distance_thresh):\n",
    "                \n",
    "                \n",
    "                # finally check energies and remove the one with the higher:\n",
    "                if abs(energy[conf1] - energy[conf2]) < energy_thresh:\n",
    "                    if energy[conf1] < energy[conf2]:\n",
    "                        to_be_deleted.append(conf2)\n",
    "                    else:\n",
    "                        to_be_deleted.append(conf1)\n",
    "            else:\n",
    "                # similarity_matrix_b_sorted is sorted, so here we would already start looping over \n",
    "                # pairs for which rmsd is > threshold \n",
    "                # and we do not need to do this, so break\n",
    "                break\n",
    "\n",
    "    return to_be_deleted\n"
   ]
  },
  {
   "cell_type": "markdown",
   "metadata": {},
   "source": [
    "## Example 1"
   ]
  },
  {
   "cell_type": "code",
   "execution_count": 3,
   "metadata": {
    "collapsed": false,
    "jupyter": {
     "outputs_hidden": false
    }
   },
   "outputs": [],
   "source": [
    "# first, we select input files with molecular geometries (note that this example uses sdf format)\n",
    "\n",
    "inps_m1_h2o_in_rdkit        = glob.glob('results_starting_from_m1_h2o_in/*.sdf')\n",
    "inps_m1_h2o_out_rdkit       = glob.glob('results_starting_from_m1_h2o_out/*.sdf')\n",
    "inps = inps_m1_h2o_in_rdkit + inps_m1_h2o_out_rdkit"
   ]
  },
  {
   "cell_type": "code",
   "execution_count": 4,
   "metadata": {
    "collapsed": false,
    "jupyter": {
     "outputs_hidden": false
    }
   },
   "outputs": [
    {
     "name": "stdout",
     "output_type": "stream",
     "text": [
      "We have 5 conformers to consider\n"
     ]
    }
   ],
   "source": [
    "# then, we write molecules to a dictionary;\n",
    "# this is handy, as we can use the key to keep track of names (here: \"name\" variable)\n",
    "moldict_m1_h2o_in_rdkit  = from_molfiles_to_moldict(inps_m1_h2o_in_rdkit, \"m1_h2o_in_conformers_from_rdkit_\")\n",
    "moldict_m1_h2o_out_rdkit = from_molfiles_to_moldict(inps_m1_h2o_out_rdkit, \"m1_h2o_out_conformers_from_rdkit_\")\n",
    "moldict = moldict_m1_h2o_in_rdkit | moldict_m1_h2o_out_rdkit\n",
    "print(\"We have {} conformers to consider\".format(len(moldict)))"
   ]
  },
  {
   "cell_type": "code",
   "execution_count": 5,
   "metadata": {
    "collapsed": false,
    "jupyter": {
     "outputs_hidden": false
    }
   },
   "outputs": [],
   "source": [
    "# grep conformer energies from sdf files\n",
    "e_m1_h2o_in_rdkit  = grep_energies_from_sdf_outputs(inps_m1_h2o_in_rdkit)\n",
    "e_m1_h2o_out_rdkit = grep_energies_from_sdf_outputs(inps_m1_h2o_out_rdkit)\n",
    "energies=e_m1_h2o_in_rdkit | e_m1_h2o_out_rdkit"
   ]
  },
  {
   "cell_type": "code",
   "execution_count": 6,
   "metadata": {
    "collapsed": false,
    "jupyter": {
     "outputs_hidden": false
    }
   },
   "outputs": [],
   "source": [
    "# We can have a look at all generated conformers.\n",
    "# Here, we align all structures to the one of the lowest energy.\n",
    "# We first need to set the \"core\" - a part of molecule, which we wish to be most aligned (rmsd-wise) among all the structures;\n",
    "# this, we give in smiles format\n",
    "mol_smiles = 'O=C1NCCNC(=O)c2nc(C(=O)NCCNC(=O)c3nc1ccc3)ccc2'\n",
    "core_smiles = 'n1ccccc1'"
   ]
  },
  {
   "cell_type": "code",
   "execution_count": 7,
   "metadata": {
    "collapsed": false,
    "jupyter": {
     "outputs_hidden": false
    }
   },
   "outputs": [
    {
     "data": {
      "application/3dmoljs_load.v0": "<div id=\"3dmolviewer_1696338792211717\"  style=\"position: relative; width: 400px; height: 400px\">\n        <p id=\"3dmolwarning_1696338792211717\" style=\"background-color:#ffcccc;color:black\">You appear to be running in JupyterLab (or JavaScript failed to load for some other reason).  You need to install the 3dmol extension: <br>\n        <tt>jupyter labextension install jupyterlab_3dmol</tt></p>\n        </div>\n<script>\n\nvar loadScriptAsync = function(uri){\n  return new Promise((resolve, reject) => {\n    //this is to ignore the existence of requirejs amd\n    var savedexports, savedmodule;\n    if (typeof exports !== 'undefined') savedexports = exports;\n    else exports = {}\n    if (typeof module !== 'undefined') savedmodule = module;\n    else module = {}\n\n    var tag = document.createElement('script');\n    tag.src = uri;\n    tag.async = true;\n    tag.onload = () => {\n        exports = savedexports;\n        module = savedmodule;\n        resolve();\n    };\n  var firstScriptTag = document.getElementsByTagName('script')[0];\n  firstScriptTag.parentNode.insertBefore(tag, firstScriptTag);\n});\n};\n\nif(typeof $3Dmolpromise === 'undefined') {\n$3Dmolpromise = null;\n  $3Dmolpromise = loadScriptAsync('https://cdnjs.cloudflare.com/ajax/libs/3Dmol/2.0.1/3Dmol-min.js');\n}\n\nvar viewer_1696338792211717 = null;\nvar warn = document.getElementById(\"3dmolwarning_1696338792211717\");\nif(warn) {\n    warn.parentNode.removeChild(warn);\n}\n$3Dmolpromise.then(function() {\nviewer_1696338792211717 = $3Dmol.createViewer(document.getElementById(\"3dmolviewer_1696338792211717\"),{backgroundColor:\"white\"});\nviewer_1696338792211717.zoomTo();\n\tviewer_1696338792211717.addModel(\"m1_h2o_in.xyz\\n     RDKit          3D\\n\\n 49 50  0  0  0  0  0  0  0  0999 V2000\\n   -3.5262   -2.3750    1.8660 O   0  0  0  0  0  0  0  0  0  0  0  0\\n   -2.4969    2.9604   -2.5576 O   0  0  0  0  0  0  0  0  0  0  0  0\\n    3.6441    4.9706    0.8554 O   0  0  0  0  0  0  0  0  0  0  0  0\\n    3.6717   -1.7180    2.9427 O   0  0  0  0  0  0  0  0  0  0  0  0\\n   -1.5259   -1.2553    2.2001 N   0  0  0  0  0  0  0  0  0  0  0  0\\n   -2.6151    0.6166    0.1074 N   0  0  0  0  0  0  0  0  0  0  0  0\\n   -0.9259    2.8792   -0.8507 N   0  0  0  0  0  0  0  0  0  0  0  0\\n    1.5982    3.9094    0.6222 N   0  0  0  0  0  0  0  0  0  0  0  0\\n    2.9904    1.6495    2.0451 N   0  0  0  0  0  0  0  0  0  0  0  0\\n    1.5432   -0.9228    2.4683 N   0  0  0  0  0  0  0  0  0  0  0  0\\n   -2.8368   -1.3494    1.6139 C   0  0  0  0  0  0  0  0  0  0  0  0\\n   -3.4138   -0.3013    0.7256 C   0  0  0  0  0  0  0  0  0  0  0  0\\n   -3.1040    1.5606   -0.7471 C   0  0  0  0  0  0  0  0  0  0  0  0\\n   -2.1844    2.5013   -1.4259 C   0  0  0  0  0  0  0  0  0  0  0  0\\n   -0.8077    3.2947    0.5470 C   0  0  0  0  0  0  0  0  0  0  0  0\\n    0.5864    2.9659    1.0933 C   0  0  0  0  0  0  0  0  0  0  0  0\\n    2.9372    3.9677    1.1464 C   0  0  0  0  0  0  0  0  0  0  0  0\\n    3.5260    2.9043    2.0085 C   0  0  0  0  0  0  0  0  0  0  0  0\\n    3.5301    0.6404    2.7871 C   0  0  0  0  0  0  0  0  0  0  0  0\\n    2.9336   -0.7140    2.7516 C   0  0  0  0  0  0  0  0  0  0  0  0\\n    0.4938   -0.1463    3.1288 C   0  0  0  0  0  0  0  0  0  0  0  0\\n   -0.7388   -0.0243    2.2256 C   0  0  0  0  0  0  0  0  0  0  0  0\\n   -4.7949   -0.2824    0.4678 C   0  0  0  0  0  0  0  0  0  0  0  0\\n   -5.3217    0.6686   -0.4054 C   0  0  0  0  0  0  0  0  0  0  0  0\\n   -4.4784    1.5901   -1.0229 C   0  0  0  0  0  0  0  0  0  0  0  0\\n    4.6851    3.1696    2.7572 C   0  0  0  0  0  0  0  0  0  0  0  0\\n    5.2612    2.1555    3.5212 C   0  0  0  0  0  0  0  0  0  0  0  0\\n    4.6913    0.8838    3.5344 C   0  0  0  0  0  0  0  0  0  0  0  0\\n    0.0522    0.9749    1.6067 O   0  0  0  0  0  0  0  0  0  0  0  0\\n    0.0522    1.3065    1.3758 H   0  0  0  0  0  0  0  0  0  0  0  0\\n    0.0522    1.3065    1.3758 H   0  0  0  0  0  0  0  0  0  0  0  0\\n    0.0522    1.3065    1.3758 H   0  0  0  0  0  0  0  0  0  0  0  0\\n    0.0522    1.3065    1.3758 H   0  0  0  0  0  0  0  0  0  0  0  0\\n    0.0522    1.3065    1.3758 H   0  0  0  0  0  0  0  0  0  0  0  0\\n    0.0522    1.3065    1.3758 H   0  0  0  0  0  0  0  0  0  0  0  0\\n    0.0522    1.3065    1.3758 H   0  0  0  0  0  0  0  0  0  0  0  0\\n    0.0522    1.3065    1.3758 H   0  0  0  0  0  0  0  0  0  0  0  0\\n    0.0522    1.3065    1.3758 H   0  0  0  0  0  0  0  0  0  0  0  0\\n    0.0522    1.3065    1.3758 H   0  0  0  0  0  0  0  0  0  0  0  0\\n    0.0522    1.3065    1.3758 H   0  0  0  0  0  0  0  0  0  0  0  0\\n    0.0522    1.3065    1.3758 H   0  0  0  0  0  0  0  0  0  0  0  0\\n    0.0522    1.3065    1.3758 H   0  0  0  0  0  0  0  0  0  0  0  0\\n    0.0522    1.3065    1.3758 H   0  0  0  0  0  0  0  0  0  0  0  0\\n    0.0522    1.3065    1.3758 H   0  0  0  0  0  0  0  0  0  0  0  0\\n    0.0522    1.3065    1.3758 H   0  0  0  0  0  0  0  0  0  0  0  0\\n    0.0522    1.3065    1.3758 H   0  0  0  0  0  0  0  0  0  0  0  0\\n    0.0522    1.3065    1.3758 H   0  0  0  0  0  0  0  0  0  0  0  0\\n    0.0522    1.3065    1.3758 H   0  0  0  0  0  0  0  0  0  0  0  0\\n    0.0522    1.3065    1.3758 H   0  0  0  0  0  0  0  0  0  0  0  0\\n  1 11  2  0\\n  4 20  2  0\\n  6 13  2  0\\n  7 14  1  0\\n  7 15  1  0\\n  8 16  1  0\\n  9 18  1  0\\n 11  5  1  0\\n 11 12  1  0\\n 12  6  1  0\\n 13 14  1  0\\n 14  2  2  0\\n 16 15  1  0\\n 17  3  2  0\\n 17  8  1  0\\n 18 17  1  0\\n 19  9  2  0\\n 20 19  1  0\\n 20 10  1  0\\n 21 10  1  0\\n 22 21  1  0\\n 22  5  1  0\\n 23 12  2  0\\n 23 24  1  0\\n 24 25  2  0\\n 25 13  1  0\\n 26 18  2  0\\n 27 26  1  0\\n 28 27  2  0\\n 28 19  1  0\\n  5 30  1  0\\n  7 31  1  0\\n  8 32  1  0\\n 10 33  1  0\\n 15 34  1  0\\n 15 35  1  0\\n 16 36  1  0\\n 16 37  1  0\\n 21 38  1  0\\n 21 39  1  0\\n 22 40  1  0\\n 22 41  1  0\\n 23 42  1  0\\n 24 43  1  0\\n 25 44  1  0\\n 26 45  1  0\\n 27 46  1  0\\n 28 47  1  0\\n 29 48  1  0\\n 29 49  1  0\\nM  END\\n\",\"sdf\");\n\tviewer_1696338792211717.addModel(\"m1_h2o_in.xyz\\n     RDKit          3D\\n\\n 49 50  0  0  0  0  0  0  0  0999 V2000\\n   -3.3465   -2.4735    1.6433 O   0  0  0  0  0  0  0  0  0  0  0  0\\n   -2.5699    3.0168   -2.5384 O   0  0  0  0  0  0  0  0  0  0  0  0\\n    4.3085    2.3758    0.0442 O   0  0  0  0  0  0  0  0  0  0  0  0\\n    1.1668    2.2413    6.4006 O   0  0  0  0  0  0  0  0  0  0  0  0\\n   -1.6580   -1.0593    2.3814 N   0  0  0  0  0  0  0  0  0  0  0  0\\n   -2.6135    0.6187    0.1099 N   0  0  0  0  0  0  0  0  0  0  0  0\\n   -0.8320    2.7094   -1.0364 N   0  0  0  0  0  0  0  0  0  0  0  0\\n    1.9931    2.5046    0.1359 N   0  0  0  0  0  0  0  0  0  0  0  0\\n    2.3406    2.1774    3.0294 N   0  0  0  0  0  0  0  0  0  0  0  0\\n   -0.0650    1.5425    4.5617 N   0  0  0  0  0  0  0  0  0  0  0  0\\n   -2.8276   -1.3255    1.5992 C   0  0  0  0  0  0  0  0  0  0  0  0\\n   -3.4178   -0.2948    0.7242 C   0  0  0  0  0  0  0  0  0  0  0  0\\n   -3.0998    1.5566   -0.7519 C   0  0  0  0  0  0  0  0  0  0  0  0\\n   -2.1766    2.4642   -1.4754 C   0  0  0  0  0  0  0  0  0  0  0  0\\n   -0.4485    2.7351    0.3764 C   0  0  0  0  0  0  0  0  0  0  0  0\\n    0.9191    3.4028    0.5689 C   0  0  0  0  0  0  0  0  0  0  0  0\\n    3.2806    2.4457    0.7707 C   0  0  0  0  0  0  0  0  0  0  0  0\\n    3.4293    2.3970    2.2443 C   0  0  0  0  0  0  0  0  0  0  0  0\\n    2.4081    2.1088    4.3861 C   0  0  0  0  0  0  0  0  0  0  0  0\\n    1.1657    1.9523    5.1735 C   0  0  0  0  0  0  0  0  0  0  0  0\\n   -0.1359    0.4085    3.6373 C   0  0  0  0  0  0  0  0  0  0  0  0\\n   -1.5862    0.1187    3.2440 C   0  0  0  0  0  0  0  0  0  0  0  0\\n   -4.7951   -0.2875    0.4638 C   0  0  0  0  0  0  0  0  0  0  0  0\\n   -5.3231    0.6683   -0.4021 C   0  0  0  0  0  0  0  0  0  0  0  0\\n   -4.4787    1.5909   -1.0185 C   0  0  0  0  0  0  0  0  0  0  0  0\\n    4.6877    2.5421    2.8497 C   0  0  0  0  0  0  0  0  0  0  0  0\\n    4.7923    2.4741    4.2399 C   0  0  0  0  0  0  0  0  0  0  0  0\\n    3.6519    2.2637    5.0167 C   0  0  0  0  0  0  0  0  0  0  0  0\\n   -0.0029    1.7591    1.5051 O   0  0  0  0  0  0  0  0  0  0  0  0\\n   -0.2222    1.5170    1.7429 H   0  0  0  0  0  0  0  0  0  0  0  0\\n   -0.2222    1.5170    1.7429 H   0  0  0  0  0  0  0  0  0  0  0  0\\n   -0.2222    1.5170    1.7429 H   0  0  0  0  0  0  0  0  0  0  0  0\\n   -0.2222    1.5170    1.7429 H   0  0  0  0  0  0  0  0  0  0  0  0\\n   -0.2222    1.5170    1.7429 H   0  0  0  0  0  0  0  0  0  0  0  0\\n   -0.2222    1.5170    1.7429 H   0  0  0  0  0  0  0  0  0  0  0  0\\n   -0.2222    1.5170    1.7429 H   0  0  0  0  0  0  0  0  0  0  0  0\\n   -0.2222    1.5170    1.7429 H   0  0  0  0  0  0  0  0  0  0  0  0\\n   -0.2222    1.5170    1.7429 H   0  0  0  0  0  0  0  0  0  0  0  0\\n   -0.2222    1.5170    1.7429 H   0  0  0  0  0  0  0  0  0  0  0  0\\n   -0.2222    1.5170    1.7429 H   0  0  0  0  0  0  0  0  0  0  0  0\\n   -0.2222    1.5170    1.7429 H   0  0  0  0  0  0  0  0  0  0  0  0\\n   -0.2222    1.5170    1.7429 H   0  0  0  0  0  0  0  0  0  0  0  0\\n   -0.2222    1.5170    1.7429 H   0  0  0  0  0  0  0  0  0  0  0  0\\n   -0.2222    1.5170    1.7429 H   0  0  0  0  0  0  0  0  0  0  0  0\\n   -0.2222    1.5170    1.7429 H   0  0  0  0  0  0  0  0  0  0  0  0\\n   -0.2222    1.5170    1.7429 H   0  0  0  0  0  0  0  0  0  0  0  0\\n   -0.2222    1.5170    1.7429 H   0  0  0  0  0  0  0  0  0  0  0  0\\n   -0.2222    1.5170    1.7429 H   0  0  0  0  0  0  0  0  0  0  0  0\\n   -0.2222    1.5170    1.7429 H   0  0  0  0  0  0  0  0  0  0  0  0\\n  1 11  2  0\\n  4 20  2  0\\n  6 13  2  0\\n  7 14  1  0\\n  7 15  1  0\\n  8 16  1  0\\n  9 18  1  0\\n 11  5  1  0\\n 11 12  1  0\\n 12  6  1  0\\n 13 14  1  0\\n 14  2  2  0\\n 16 15  1  0\\n 17  3  2  0\\n 17  8  1  0\\n 18 17  1  0\\n 19  9  2  0\\n 20 19  1  0\\n 20 10  1  0\\n 21 10  1  0\\n 22 21  1  0\\n 22  5  1  0\\n 23 12  2  0\\n 23 24  1  0\\n 24 25  2  0\\n 25 13  1  0\\n 26 18  2  0\\n 27 26  1  0\\n 28 27  2  0\\n 28 19  1  0\\n  5 30  1  0\\n  7 31  1  0\\n  8 32  1  0\\n 10 33  1  0\\n 15 34  1  0\\n 15 35  1  0\\n 16 36  1  0\\n 16 37  1  0\\n 21 38  1  0\\n 21 39  1  0\\n 22 40  1  0\\n 22 41  1  0\\n 23 42  1  0\\n 24 43  1  0\\n 25 44  1  0\\n 26 45  1  0\\n 27 46  1  0\\n 28 47  1  0\\n 29 48  1  0\\n 29 49  1  0\\nM  END\\n\",\"sdf\");\n\tviewer_1696338792211717.addModel(\"m1_h2o_out.xyz\\n     RDKit          3D\\n\\n 49 50  0  0  0  0  0  0  0  0999 V2000\\n   -3.4128   -2.4242    1.7646 O   0  0  0  0  0  0  0  0  0  0  0  0\\n   -2.6005    3.1088   -2.4704 O   0  0  0  0  0  0  0  0  0  0  0  0\\n    1.5871    4.8228    2.8544 O   0  0  0  0  0  0  0  0  0  0  0  0\\n    0.9947   -0.9218    6.9169 O   0  0  0  0  0  0  0  0  0  0  0  0\\n   -1.5879   -1.0946    2.3034 N   0  0  0  0  0  0  0  0  0  0  0  0\\n   -2.6148    0.6165    0.1065 N   0  0  0  0  0  0  0  0  0  0  0  0\\n   -0.8379    2.7677   -1.0064 N   0  0  0  0  0  0  0  0  0  0  0  0\\n    1.5158    2.6891    1.9022 N   0  0  0  0  0  0  0  0  0  0  0  0\\n    1.1009    1.7560    4.6071 N   0  0  0  0  0  0  0  0  0  0  0  0\\n   -0.4446   -0.7330    5.1008 N   0  0  0  0  0  0  0  0  0  0  0  0\\n   -2.8300   -1.3157    1.6216 C   0  0  0  0  0  0  0  0  0  0  0  0\\n   -3.4178   -0.2955    0.7260 C   0  0  0  0  0  0  0  0  0  0  0  0\\n   -3.0992    1.5602   -0.7505 C   0  0  0  0  0  0  0  0  0  0  0  0\\n   -2.1840    2.5073   -1.4432 C   0  0  0  0  0  0  0  0  0  0  0  0\\n   -0.3238    2.4126    0.3157 C   0  0  0  0  0  0  0  0  0  0  0  0\\n    1.0201    3.0918    0.5877 C   0  0  0  0  0  0  0  0  0  0  0  0\\n    1.5504    3.5746    3.0311 C   0  0  0  0  0  0  0  0  0  0  0  0\\n    1.5499    3.0237    4.3998 C   0  0  0  0  0  0  0  0  0  0  0  0\\n    1.0591    1.1841    5.8409 C   0  0  0  0  0  0  0  0  0  0  0  0\\n    0.5442   -0.1928    5.9928 C   0  0  0  0  0  0  0  0  0  0  0  0\\n   -1.4837    0.0805    4.4666 C   0  0  0  0  0  0  0  0  0  0  0  0\\n   -1.2612    0.1727    2.9561 C   0  0  0  0  0  0  0  0  0  0  0  0\\n   -4.7955   -0.2864    0.4660 C   0  0  0  0  0  0  0  0  0  0  0  0\\n   -5.3222    0.6662   -0.4043 C   0  0  0  0  0  0  0  0  0  0  0  0\\n   -4.4784    1.5912   -1.0183 C   0  0  0  0  0  0  0  0  0  0  0  0\\n    1.9868    3.7848    5.4941 C   0  0  0  0  0  0  0  0  0  0  0  0\\n    1.9774    3.2167    6.7697 C   0  0  0  0  0  0  0  0  0  0  0  0\\n    1.5196    1.9098    6.9492 C   0  0  0  0  0  0  0  0  0  0  0  0\\n   -1.0292    1.1128    2.6880 O   0  0  0  0  0  0  0  0  0  0  0  0\\n   -0.8881    1.4124    2.4563 H   0  0  0  0  0  0  0  0  0  0  0  0\\n   -0.8881    1.4124    2.4563 H   0  0  0  0  0  0  0  0  0  0  0  0\\n   -0.8881    1.4124    2.4563 H   0  0  0  0  0  0  0  0  0  0  0  0\\n   -0.8881    1.4124    2.4563 H   0  0  0  0  0  0  0  0  0  0  0  0\\n   -0.8881    1.4124    2.4563 H   0  0  0  0  0  0  0  0  0  0  0  0\\n   -0.8881    1.4124    2.4563 H   0  0  0  0  0  0  0  0  0  0  0  0\\n   -0.8881    1.4124    2.4563 H   0  0  0  0  0  0  0  0  0  0  0  0\\n   -0.8881    1.4124    2.4563 H   0  0  0  0  0  0  0  0  0  0  0  0\\n   -0.8881    1.4124    2.4563 H   0  0  0  0  0  0  0  0  0  0  0  0\\n   -0.8881    1.4124    2.4563 H   0  0  0  0  0  0  0  0  0  0  0  0\\n   -0.8881    1.4124    2.4563 H   0  0  0  0  0  0  0  0  0  0  0  0\\n   -0.8881    1.4124    2.4563 H   0  0  0  0  0  0  0  0  0  0  0  0\\n   -0.8881    1.4124    2.4563 H   0  0  0  0  0  0  0  0  0  0  0  0\\n   -0.8881    1.4124    2.4563 H   0  0  0  0  0  0  0  0  0  0  0  0\\n   -0.8881    1.4124    2.4563 H   0  0  0  0  0  0  0  0  0  0  0  0\\n   -0.8881    1.4124    2.4563 H   0  0  0  0  0  0  0  0  0  0  0  0\\n   -0.8881    1.4124    2.4563 H   0  0  0  0  0  0  0  0  0  0  0  0\\n   -0.8881    1.4124    2.4563 H   0  0  0  0  0  0  0  0  0  0  0  0\\n   -0.8881    1.4124    2.4563 H   0  0  0  0  0  0  0  0  0  0  0  0\\n   -0.8881    1.4124    2.4563 H   0  0  0  0  0  0  0  0  0  0  0  0\\n  1 11  2  0\\n  4 20  2  0\\n  6 13  2  0\\n  7 15  1  0\\n  8 16  1  0\\n  9 18  1  0\\n 11  5  1  0\\n 11 12  1  0\\n 12  6  1  0\\n 13 14  1  0\\n 14  7  1  0\\n 14  2  2  0\\n 16 15  1  0\\n 17  3  2  0\\n 17  8  1  0\\n 18 17  1  0\\n 19  9  2  0\\n 20 19  1  0\\n 20 10  1  0\\n 21 10  1  0\\n 22 21  1  0\\n 22  5  1  0\\n 23 12  2  0\\n 23 24  1  0\\n 24 25  2  0\\n 25 13  1  0\\n 26 18  2  0\\n 27 26  1  0\\n 28 27  2  0\\n 28 19  1  0\\n  5 30  1  0\\n  7 31  1  0\\n  8 32  1  0\\n 10 33  1  0\\n 15 34  1  0\\n 15 35  1  0\\n 16 36  1  0\\n 16 37  1  0\\n 21 38  1  0\\n 21 39  1  0\\n 22 40  1  0\\n 22 41  1  0\\n 23 42  1  0\\n 24 43  1  0\\n 25 44  1  0\\n 26 45  1  0\\n 27 46  1  0\\n 28 47  1  0\\n 29 48  1  0\\n 29 49  1  0\\nM  END\\n\",\"sdf\");\n\tviewer_1696338792211717.addModel(\"m1_h2o_out.xyz\\n     RDKit          3D\\n\\n 49 50  0  0  0  0  0  0  0  0999 V2000\\n   -3.3937   -2.4271    1.7580 O   0  0  0  0  0  0  0  0  0  0  0  0\\n   -2.5742    3.0839   -2.4834 O   0  0  0  0  0  0  0  0  0  0  0  0\\n    1.1288    6.3258    1.1424 O   0  0  0  0  0  0  0  0  0  0  0  0\\n    2.0263    1.4613    6.0985 O   0  0  0  0  0  0  0  0  0  0  0  0\\n   -1.5594   -1.0894    2.2512 N   0  0  0  0  0  0  0  0  0  0  0  0\\n   -2.6177    0.6173    0.1077 N   0  0  0  0  0  0  0  0  0  0  0  0\\n   -0.8290    2.7458   -0.9944 N   0  0  0  0  0  0  0  0  0  0  0  0\\n   -0.6023    4.7924    1.3124 N   0  0  0  0  0  0  0  0  0  0  0  0\\n    1.2125    3.4580    3.2800 N   0  0  0  0  0  0  0  0  0  0  0  0\\n    0.1845    1.1166    4.7250 N   0  0  0  0  0  0  0  0  0  0  0  0\\n   -2.8151   -1.3181    1.6018 C   0  0  0  0  0  0  0  0  0  0  0  0\\n   -3.4169   -0.2953    0.7247 C   0  0  0  0  0  0  0  0  0  0  0  0\\n   -3.0991    1.5587   -0.7508 C   0  0  0  0  0  0  0  0  0  0  0  0\\n   -2.1745    2.4948   -1.4428 C   0  0  0  0  0  0  0  0  0  0  0  0\\n   -0.3377    2.5227    0.3660 C   0  0  0  0  0  0  0  0  0  0  0  0\\n   -1.0814    3.4109    1.3744 C   0  0  0  0  0  0  0  0  0  0  0  0\\n    0.7420    5.2187    1.6054 C   0  0  0  0  0  0  0  0  0  0  0  0\\n    1.6796    4.4273    2.4448 C   0  0  0  0  0  0  0  0  0  0  0  0\\n    2.0240    2.7429    4.1061 C   0  0  0  0  0  0  0  0  0  0  0  0\\n    1.4374    1.7445    5.0206 C   0  0  0  0  0  0  0  0  0  0  0  0\\n    0.0506    0.2623    3.5454 C   0  0  0  0  0  0  0  0  0  0  0  0\\n   -1.4270   -0.0196    3.2399 C   0  0  0  0  0  0  0  0  0  0  0  0\\n   -4.7948   -0.2875    0.4663 C   0  0  0  0  0  0  0  0  0  0  0  0\\n   -5.3219    0.6671   -0.4033 C   0  0  0  0  0  0  0  0  0  0  0  0\\n   -4.4776    1.5918   -1.0193 C   0  0  0  0  0  0  0  0  0  0  0  0\\n    3.0557    4.7094    2.4339 C   0  0  0  0  0  0  0  0  0  0  0  0\\n    3.9123    3.9941    3.2717 C   0  0  0  0  0  0  0  0  0  0  0  0\\n    3.3997    3.0119    4.1189 C   0  0  0  0  0  0  0  0  0  0  0  0\\n   -0.6319    2.3131    1.6175 O   0  0  0  0  0  0  0  0  0  0  0  0\\n   -0.7019    1.9472    1.7740 H   0  0  0  0  0  0  0  0  0  0  0  0\\n   -0.7019    1.9472    1.7740 H   0  0  0  0  0  0  0  0  0  0  0  0\\n   -0.7019    1.9472    1.7740 H   0  0  0  0  0  0  0  0  0  0  0  0\\n   -0.7019    1.9472    1.7740 H   0  0  0  0  0  0  0  0  0  0  0  0\\n   -0.7019    1.9472    1.7740 H   0  0  0  0  0  0  0  0  0  0  0  0\\n   -0.7019    1.9472    1.7740 H   0  0  0  0  0  0  0  0  0  0  0  0\\n   -0.7019    1.9472    1.7740 H   0  0  0  0  0  0  0  0  0  0  0  0\\n   -0.7019    1.9472    1.7740 H   0  0  0  0  0  0  0  0  0  0  0  0\\n   -0.7019    1.9472    1.7740 H   0  0  0  0  0  0  0  0  0  0  0  0\\n   -0.7019    1.9472    1.7740 H   0  0  0  0  0  0  0  0  0  0  0  0\\n   -0.7019    1.9472    1.7740 H   0  0  0  0  0  0  0  0  0  0  0  0\\n   -0.7019    1.9472    1.7740 H   0  0  0  0  0  0  0  0  0  0  0  0\\n   -0.7019    1.9472    1.7740 H   0  0  0  0  0  0  0  0  0  0  0  0\\n   -0.7019    1.9472    1.7740 H   0  0  0  0  0  0  0  0  0  0  0  0\\n   -0.7019    1.9472    1.7740 H   0  0  0  0  0  0  0  0  0  0  0  0\\n   -0.7019    1.9472    1.7740 H   0  0  0  0  0  0  0  0  0  0  0  0\\n   -0.7019    1.9472    1.7740 H   0  0  0  0  0  0  0  0  0  0  0  0\\n   -0.7019    1.9472    1.7740 H   0  0  0  0  0  0  0  0  0  0  0  0\\n   -0.7019    1.9472    1.7740 H   0  0  0  0  0  0  0  0  0  0  0  0\\n   -0.7019    1.9472    1.7740 H   0  0  0  0  0  0  0  0  0  0  0  0\\n  1 11  2  0\\n  4 20  2  0\\n  6 13  2  0\\n  7 15  1  0\\n  8 16  1  0\\n  9 18  1  0\\n 11  5  1  0\\n 11 12  1  0\\n 12  6  1  0\\n 13 14  1  0\\n 14  7  1  0\\n 14  2  2  0\\n 16 15  1  0\\n 17  3  2  0\\n 17  8  1  0\\n 18 17  1  0\\n 19  9  2  0\\n 20 19  1  0\\n 20 10  1  0\\n 21 10  1  0\\n 22 21  1  0\\n 22  5  1  0\\n 23 12  2  0\\n 23 24  1  0\\n 24 25  2  0\\n 25 13  1  0\\n 26 18  2  0\\n 27 26  1  0\\n 28 27  2  0\\n 28 19  1  0\\n  5 30  1  0\\n  7 31  1  0\\n  8 32  1  0\\n 10 33  1  0\\n 15 34  1  0\\n 15 35  1  0\\n 16 36  1  0\\n 16 37  1  0\\n 21 38  1  0\\n 21 39  1  0\\n 22 40  1  0\\n 22 41  1  0\\n 23 42  1  0\\n 24 43  1  0\\n 25 44  1  0\\n 26 45  1  0\\n 27 46  1  0\\n 28 47  1  0\\n 29 48  1  0\\n 29 49  1  0\\nM  END\\n\",\"sdf\");\n\tviewer_1696338792211717.addModel(\"m1_h2o_out.xyz\\n     RDKit          3D\\n\\n 49 50  0  0  0  0  0  0  0  0999 V2000\\n   -3.5174   -1.6000    2.6890 O   0  0  0  0  0  0  0  0  0  0  0  0\\n   -2.7390    3.5662   -1.9583 O   0  0  0  0  0  0  0  0  0  0  0  0\\n    3.5904    2.9969    1.4773 O   0  0  0  0  0  0  0  0  0  0  0  0\\n    2.9454   -2.8090   -2.3657 O   0  0  0  0  0  0  0  0  0  0  0  0\\n   -1.5497   -1.8555    1.4825 N   0  0  0  0  0  0  0  0  0  0  0  0\\n   -2.6153    0.6195    0.1101 N   0  0  0  0  0  0  0  0  0  0  0  0\\n   -0.7673    2.5661   -1.2812 N   0  0  0  0  0  0  0  0  0  0  0  0\\n    1.4171    2.4436    0.9142 N   0  0  0  0  0  0  0  0  0  0  0  0\\n    2.6843   -0.0870   -0.1491 N   0  0  0  0  0  0  0  0  0  0  0  0\\n    1.0001   -2.3809   -1.1718 N   0  0  0  0  0  0  0  0  0  0  0  0\\n   -2.8483   -1.2762    1.6708 C   0  0  0  0  0  0  0  0  0  0  0  0\\n   -3.4177   -0.3019    0.7168 C   0  0  0  0  0  0  0  0  0  0  0  0\\n   -3.0979    1.5630   -0.7492 C   0  0  0  0  0  0  0  0  0  0  0  0\\n   -2.2062    2.5956   -1.3543 C   0  0  0  0  0  0  0  0  0  0  0  0\\n    0.0482    1.4306   -0.8598 C   0  0  0  0  0  0  0  0  0  0  0  0\\n    0.3325    1.5039    0.6448 C   0  0  0  0  0  0  0  0  0  0  0  0\\n    2.8175    2.1172    1.0090 C   0  0  0  0  0  0  0  0  0  0  0  0\\n    3.4065    0.8163    0.5748 C   0  0  0  0  0  0  0  0  0  0  0  0\\n    3.2152   -1.2591   -0.6023 C   0  0  0  0  0  0  0  0  0  0  0  0\\n    2.3995   -2.1834   -1.4172 C   0  0  0  0  0  0  0  0  0  0  0  0\\n    0.4540   -2.4573    0.1829 C   0  0  0  0  0  0  0  0  0  0  0  0\\n   -1.0662   -2.2615    0.1631 C   0  0  0  0  0  0  0  0  0  0  0  0\\n   -4.7971   -0.2799    0.4737 C   0  0  0  0  0  0  0  0  0  0  0  0\\n   -5.3219    0.6636   -0.4060 C   0  0  0  0  0  0  0  0  0  0  0  0\\n   -4.4781    1.5879   -1.0200 C   0  0  0  0  0  0  0  0  0  0  0  0\\n    4.7528    0.5288    0.8646 C   0  0  0  0  0  0  0  0  0  0  0  0\\n    5.3227   -0.6576    0.4053 C   0  0  0  0  0  0  0  0  0  0  0  0\\n    4.5594   -1.5531   -0.3395 C   0  0  0  0  0  0  0  0  0  0  0  0\\n   -0.0004    0.4041   -0.0000 O   0  0  0  0  0  0  0  0  0  0  0  0\\n    0.0000   -0.0000   -0.0000 H   0  0  0  0  0  0  0  0  0  0  0  0\\n    0.0000   -0.0000   -0.0000 H   0  0  0  0  0  0  0  0  0  0  0  0\\n    0.0000   -0.0000   -0.0000 H   0  0  0  0  0  0  0  0  0  0  0  0\\n    0.0000   -0.0000   -0.0000 H   0  0  0  0  0  0  0  0  0  0  0  0\\n    0.0000   -0.0000   -0.0000 H   0  0  0  0  0  0  0  0  0  0  0  0\\n    0.0000   -0.0000   -0.0000 H   0  0  0  0  0  0  0  0  0  0  0  0\\n    0.0000   -0.0000   -0.0000 H   0  0  0  0  0  0  0  0  0  0  0  0\\n    0.0000   -0.0000   -0.0000 H   0  0  0  0  0  0  0  0  0  0  0  0\\n    0.0000   -0.0000   -0.0000 H   0  0  0  0  0  0  0  0  0  0  0  0\\n    0.0000   -0.0000   -0.0000 H   0  0  0  0  0  0  0  0  0  0  0  0\\n    0.0000   -0.0000   -0.0000 H   0  0  0  0  0  0  0  0  0  0  0  0\\n    0.0000   -0.0000   -0.0000 H   0  0  0  0  0  0  0  0  0  0  0  0\\n    0.0000   -0.0000   -0.0000 H   0  0  0  0  0  0  0  0  0  0  0  0\\n    0.0000   -0.0000   -0.0000 H   0  0  0  0  0  0  0  0  0  0  0  0\\n    0.0000   -0.0000   -0.0000 H   0  0  0  0  0  0  0  0  0  0  0  0\\n    0.0000   -0.0000   -0.0000 H   0  0  0  0  0  0  0  0  0  0  0  0\\n    0.0000   -0.0000   -0.0000 H   0  0  0  0  0  0  0  0  0  0  0  0\\n    0.0000   -0.0000   -0.0000 H   0  0  0  0  0  0  0  0  0  0  0  0\\n    0.0000   -0.0000   -0.0000 H   0  0  0  0  0  0  0  0  0  0  0  0\\n    0.0000   -0.0000   -0.0000 H   0  0  0  0  0  0  0  0  0  0  0  0\\n  1 11  2  0\\n  4 20  2  0\\n  6 13  2  0\\n  7 15  1  0\\n  8 16  1  0\\n  9 18  1  0\\n 11  5  1  0\\n 11 12  1  0\\n 12  6  1  0\\n 13 14  1  0\\n 14  7  1  0\\n 14  2  2  0\\n 16 15  1  0\\n 17  3  2  0\\n 17  8  1  0\\n 18 17  1  0\\n 19  9  2  0\\n 20 19  1  0\\n 20 10  1  0\\n 21 10  1  0\\n 22 21  1  0\\n 22  5  1  0\\n 23 12  2  0\\n 23 24  1  0\\n 24 25  2  0\\n 25 13  1  0\\n 26 18  2  0\\n 27 26  1  0\\n 28 27  2  0\\n 28 19  1  0\\n  5 30  1  0\\n  7 31  1  0\\n  8 32  1  0\\n 10 33  1  0\\n 15 34  1  0\\n 15 35  1  0\\n 16 36  1  0\\n 16 37  1  0\\n 21 38  1  0\\n 21 39  1  0\\n 22 40  1  0\\n 22 41  1  0\\n 23 42  1  0\\n 24 43  1  0\\n 25 44  1  0\\n 26 45  1  0\\n 27 46  1  0\\n 28 47  1  0\\n 29 48  1  0\\n 29 49  1  0\\nM  END\\n\",\"sdf\");\n\tviewer_1696338792211717.setStyle({\"stick\": {\"radius\": \"0.15\"}});\n\tviewer_1696338792211717.setBackgroundColor(\"0xeeeeee\");\n\tviewer_1696338792211717.zoomTo();\nviewer_1696338792211717.render();\n});\n</script>",
      "text/html": [
       "<div id=\"3dmolviewer_1696338792211717\"  style=\"position: relative; width: 400px; height: 400px\">\n",
       "        <p id=\"3dmolwarning_1696338792211717\" style=\"background-color:#ffcccc;color:black\">You appear to be running in JupyterLab (or JavaScript failed to load for some other reason).  You need to install the 3dmol extension: <br>\n",
       "        <tt>jupyter labextension install jupyterlab_3dmol</tt></p>\n",
       "        </div>\n",
       "<script>\n",
       "\n",
       "var loadScriptAsync = function(uri){\n",
       "  return new Promise((resolve, reject) => {\n",
       "    //this is to ignore the existence of requirejs amd\n",
       "    var savedexports, savedmodule;\n",
       "    if (typeof exports !== 'undefined') savedexports = exports;\n",
       "    else exports = {}\n",
       "    if (typeof module !== 'undefined') savedmodule = module;\n",
       "    else module = {}\n",
       "\n",
       "    var tag = document.createElement('script');\n",
       "    tag.src = uri;\n",
       "    tag.async = true;\n",
       "    tag.onload = () => {\n",
       "        exports = savedexports;\n",
       "        module = savedmodule;\n",
       "        resolve();\n",
       "    };\n",
       "  var firstScriptTag = document.getElementsByTagName('script')[0];\n",
       "  firstScriptTag.parentNode.insertBefore(tag, firstScriptTag);\n",
       "});\n",
       "};\n",
       "\n",
       "if(typeof $3Dmolpromise === 'undefined') {\n",
       "$3Dmolpromise = null;\n",
       "  $3Dmolpromise = loadScriptAsync('https://cdnjs.cloudflare.com/ajax/libs/3Dmol/2.0.1/3Dmol-min.js');\n",
       "}\n",
       "\n",
       "var viewer_1696338792211717 = null;\n",
       "var warn = document.getElementById(\"3dmolwarning_1696338792211717\");\n",
       "if(warn) {\n",
       "    warn.parentNode.removeChild(warn);\n",
       "}\n",
       "$3Dmolpromise.then(function() {\n",
       "viewer_1696338792211717 = $3Dmol.createViewer(document.getElementById(\"3dmolviewer_1696338792211717\"),{backgroundColor:\"white\"});\n",
       "viewer_1696338792211717.zoomTo();\n",
       "\tviewer_1696338792211717.addModel(\"m1_h2o_in.xyz\\n     RDKit          3D\\n\\n 49 50  0  0  0  0  0  0  0  0999 V2000\\n   -3.5262   -2.3750    1.8660 O   0  0  0  0  0  0  0  0  0  0  0  0\\n   -2.4969    2.9604   -2.5576 O   0  0  0  0  0  0  0  0  0  0  0  0\\n    3.6441    4.9706    0.8554 O   0  0  0  0  0  0  0  0  0  0  0  0\\n    3.6717   -1.7180    2.9427 O   0  0  0  0  0  0  0  0  0  0  0  0\\n   -1.5259   -1.2553    2.2001 N   0  0  0  0  0  0  0  0  0  0  0  0\\n   -2.6151    0.6166    0.1074 N   0  0  0  0  0  0  0  0  0  0  0  0\\n   -0.9259    2.8792   -0.8507 N   0  0  0  0  0  0  0  0  0  0  0  0\\n    1.5982    3.9094    0.6222 N   0  0  0  0  0  0  0  0  0  0  0  0\\n    2.9904    1.6495    2.0451 N   0  0  0  0  0  0  0  0  0  0  0  0\\n    1.5432   -0.9228    2.4683 N   0  0  0  0  0  0  0  0  0  0  0  0\\n   -2.8368   -1.3494    1.6139 C   0  0  0  0  0  0  0  0  0  0  0  0\\n   -3.4138   -0.3013    0.7256 C   0  0  0  0  0  0  0  0  0  0  0  0\\n   -3.1040    1.5606   -0.7471 C   0  0  0  0  0  0  0  0  0  0  0  0\\n   -2.1844    2.5013   -1.4259 C   0  0  0  0  0  0  0  0  0  0  0  0\\n   -0.8077    3.2947    0.5470 C   0  0  0  0  0  0  0  0  0  0  0  0\\n    0.5864    2.9659    1.0933 C   0  0  0  0  0  0  0  0  0  0  0  0\\n    2.9372    3.9677    1.1464 C   0  0  0  0  0  0  0  0  0  0  0  0\\n    3.5260    2.9043    2.0085 C   0  0  0  0  0  0  0  0  0  0  0  0\\n    3.5301    0.6404    2.7871 C   0  0  0  0  0  0  0  0  0  0  0  0\\n    2.9336   -0.7140    2.7516 C   0  0  0  0  0  0  0  0  0  0  0  0\\n    0.4938   -0.1463    3.1288 C   0  0  0  0  0  0  0  0  0  0  0  0\\n   -0.7388   -0.0243    2.2256 C   0  0  0  0  0  0  0  0  0  0  0  0\\n   -4.7949   -0.2824    0.4678 C   0  0  0  0  0  0  0  0  0  0  0  0\\n   -5.3217    0.6686   -0.4054 C   0  0  0  0  0  0  0  0  0  0  0  0\\n   -4.4784    1.5901   -1.0229 C   0  0  0  0  0  0  0  0  0  0  0  0\\n    4.6851    3.1696    2.7572 C   0  0  0  0  0  0  0  0  0  0  0  0\\n    5.2612    2.1555    3.5212 C   0  0  0  0  0  0  0  0  0  0  0  0\\n    4.6913    0.8838    3.5344 C   0  0  0  0  0  0  0  0  0  0  0  0\\n    0.0522    0.9749    1.6067 O   0  0  0  0  0  0  0  0  0  0  0  0\\n    0.0522    1.3065    1.3758 H   0  0  0  0  0  0  0  0  0  0  0  0\\n    0.0522    1.3065    1.3758 H   0  0  0  0  0  0  0  0  0  0  0  0\\n    0.0522    1.3065    1.3758 H   0  0  0  0  0  0  0  0  0  0  0  0\\n    0.0522    1.3065    1.3758 H   0  0  0  0  0  0  0  0  0  0  0  0\\n    0.0522    1.3065    1.3758 H   0  0  0  0  0  0  0  0  0  0  0  0\\n    0.0522    1.3065    1.3758 H   0  0  0  0  0  0  0  0  0  0  0  0\\n    0.0522    1.3065    1.3758 H   0  0  0  0  0  0  0  0  0  0  0  0\\n    0.0522    1.3065    1.3758 H   0  0  0  0  0  0  0  0  0  0  0  0\\n    0.0522    1.3065    1.3758 H   0  0  0  0  0  0  0  0  0  0  0  0\\n    0.0522    1.3065    1.3758 H   0  0  0  0  0  0  0  0  0  0  0  0\\n    0.0522    1.3065    1.3758 H   0  0  0  0  0  0  0  0  0  0  0  0\\n    0.0522    1.3065    1.3758 H   0  0  0  0  0  0  0  0  0  0  0  0\\n    0.0522    1.3065    1.3758 H   0  0  0  0  0  0  0  0  0  0  0  0\\n    0.0522    1.3065    1.3758 H   0  0  0  0  0  0  0  0  0  0  0  0\\n    0.0522    1.3065    1.3758 H   0  0  0  0  0  0  0  0  0  0  0  0\\n    0.0522    1.3065    1.3758 H   0  0  0  0  0  0  0  0  0  0  0  0\\n    0.0522    1.3065    1.3758 H   0  0  0  0  0  0  0  0  0  0  0  0\\n    0.0522    1.3065    1.3758 H   0  0  0  0  0  0  0  0  0  0  0  0\\n    0.0522    1.3065    1.3758 H   0  0  0  0  0  0  0  0  0  0  0  0\\n    0.0522    1.3065    1.3758 H   0  0  0  0  0  0  0  0  0  0  0  0\\n  1 11  2  0\\n  4 20  2  0\\n  6 13  2  0\\n  7 14  1  0\\n  7 15  1  0\\n  8 16  1  0\\n  9 18  1  0\\n 11  5  1  0\\n 11 12  1  0\\n 12  6  1  0\\n 13 14  1  0\\n 14  2  2  0\\n 16 15  1  0\\n 17  3  2  0\\n 17  8  1  0\\n 18 17  1  0\\n 19  9  2  0\\n 20 19  1  0\\n 20 10  1  0\\n 21 10  1  0\\n 22 21  1  0\\n 22  5  1  0\\n 23 12  2  0\\n 23 24  1  0\\n 24 25  2  0\\n 25 13  1  0\\n 26 18  2  0\\n 27 26  1  0\\n 28 27  2  0\\n 28 19  1  0\\n  5 30  1  0\\n  7 31  1  0\\n  8 32  1  0\\n 10 33  1  0\\n 15 34  1  0\\n 15 35  1  0\\n 16 36  1  0\\n 16 37  1  0\\n 21 38  1  0\\n 21 39  1  0\\n 22 40  1  0\\n 22 41  1  0\\n 23 42  1  0\\n 24 43  1  0\\n 25 44  1  0\\n 26 45  1  0\\n 27 46  1  0\\n 28 47  1  0\\n 29 48  1  0\\n 29 49  1  0\\nM  END\\n\",\"sdf\");\n",
       "\tviewer_1696338792211717.addModel(\"m1_h2o_in.xyz\\n     RDKit          3D\\n\\n 49 50  0  0  0  0  0  0  0  0999 V2000\\n   -3.3465   -2.4735    1.6433 O   0  0  0  0  0  0  0  0  0  0  0  0\\n   -2.5699    3.0168   -2.5384 O   0  0  0  0  0  0  0  0  0  0  0  0\\n    4.3085    2.3758    0.0442 O   0  0  0  0  0  0  0  0  0  0  0  0\\n    1.1668    2.2413    6.4006 O   0  0  0  0  0  0  0  0  0  0  0  0\\n   -1.6580   -1.0593    2.3814 N   0  0  0  0  0  0  0  0  0  0  0  0\\n   -2.6135    0.6187    0.1099 N   0  0  0  0  0  0  0  0  0  0  0  0\\n   -0.8320    2.7094   -1.0364 N   0  0  0  0  0  0  0  0  0  0  0  0\\n    1.9931    2.5046    0.1359 N   0  0  0  0  0  0  0  0  0  0  0  0\\n    2.3406    2.1774    3.0294 N   0  0  0  0  0  0  0  0  0  0  0  0\\n   -0.0650    1.5425    4.5617 N   0  0  0  0  0  0  0  0  0  0  0  0\\n   -2.8276   -1.3255    1.5992 C   0  0  0  0  0  0  0  0  0  0  0  0\\n   -3.4178   -0.2948    0.7242 C   0  0  0  0  0  0  0  0  0  0  0  0\\n   -3.0998    1.5566   -0.7519 C   0  0  0  0  0  0  0  0  0  0  0  0\\n   -2.1766    2.4642   -1.4754 C   0  0  0  0  0  0  0  0  0  0  0  0\\n   -0.4485    2.7351    0.3764 C   0  0  0  0  0  0  0  0  0  0  0  0\\n    0.9191    3.4028    0.5689 C   0  0  0  0  0  0  0  0  0  0  0  0\\n    3.2806    2.4457    0.7707 C   0  0  0  0  0  0  0  0  0  0  0  0\\n    3.4293    2.3970    2.2443 C   0  0  0  0  0  0  0  0  0  0  0  0\\n    2.4081    2.1088    4.3861 C   0  0  0  0  0  0  0  0  0  0  0  0\\n    1.1657    1.9523    5.1735 C   0  0  0  0  0  0  0  0  0  0  0  0\\n   -0.1359    0.4085    3.6373 C   0  0  0  0  0  0  0  0  0  0  0  0\\n   -1.5862    0.1187    3.2440 C   0  0  0  0  0  0  0  0  0  0  0  0\\n   -4.7951   -0.2875    0.4638 C   0  0  0  0  0  0  0  0  0  0  0  0\\n   -5.3231    0.6683   -0.4021 C   0  0  0  0  0  0  0  0  0  0  0  0\\n   -4.4787    1.5909   -1.0185 C   0  0  0  0  0  0  0  0  0  0  0  0\\n    4.6877    2.5421    2.8497 C   0  0  0  0  0  0  0  0  0  0  0  0\\n    4.7923    2.4741    4.2399 C   0  0  0  0  0  0  0  0  0  0  0  0\\n    3.6519    2.2637    5.0167 C   0  0  0  0  0  0  0  0  0  0  0  0\\n   -0.0029    1.7591    1.5051 O   0  0  0  0  0  0  0  0  0  0  0  0\\n   -0.2222    1.5170    1.7429 H   0  0  0  0  0  0  0  0  0  0  0  0\\n   -0.2222    1.5170    1.7429 H   0  0  0  0  0  0  0  0  0  0  0  0\\n   -0.2222    1.5170    1.7429 H   0  0  0  0  0  0  0  0  0  0  0  0\\n   -0.2222    1.5170    1.7429 H   0  0  0  0  0  0  0  0  0  0  0  0\\n   -0.2222    1.5170    1.7429 H   0  0  0  0  0  0  0  0  0  0  0  0\\n   -0.2222    1.5170    1.7429 H   0  0  0  0  0  0  0  0  0  0  0  0\\n   -0.2222    1.5170    1.7429 H   0  0  0  0  0  0  0  0  0  0  0  0\\n   -0.2222    1.5170    1.7429 H   0  0  0  0  0  0  0  0  0  0  0  0\\n   -0.2222    1.5170    1.7429 H   0  0  0  0  0  0  0  0  0  0  0  0\\n   -0.2222    1.5170    1.7429 H   0  0  0  0  0  0  0  0  0  0  0  0\\n   -0.2222    1.5170    1.7429 H   0  0  0  0  0  0  0  0  0  0  0  0\\n   -0.2222    1.5170    1.7429 H   0  0  0  0  0  0  0  0  0  0  0  0\\n   -0.2222    1.5170    1.7429 H   0  0  0  0  0  0  0  0  0  0  0  0\\n   -0.2222    1.5170    1.7429 H   0  0  0  0  0  0  0  0  0  0  0  0\\n   -0.2222    1.5170    1.7429 H   0  0  0  0  0  0  0  0  0  0  0  0\\n   -0.2222    1.5170    1.7429 H   0  0  0  0  0  0  0  0  0  0  0  0\\n   -0.2222    1.5170    1.7429 H   0  0  0  0  0  0  0  0  0  0  0  0\\n   -0.2222    1.5170    1.7429 H   0  0  0  0  0  0  0  0  0  0  0  0\\n   -0.2222    1.5170    1.7429 H   0  0  0  0  0  0  0  0  0  0  0  0\\n   -0.2222    1.5170    1.7429 H   0  0  0  0  0  0  0  0  0  0  0  0\\n  1 11  2  0\\n  4 20  2  0\\n  6 13  2  0\\n  7 14  1  0\\n  7 15  1  0\\n  8 16  1  0\\n  9 18  1  0\\n 11  5  1  0\\n 11 12  1  0\\n 12  6  1  0\\n 13 14  1  0\\n 14  2  2  0\\n 16 15  1  0\\n 17  3  2  0\\n 17  8  1  0\\n 18 17  1  0\\n 19  9  2  0\\n 20 19  1  0\\n 20 10  1  0\\n 21 10  1  0\\n 22 21  1  0\\n 22  5  1  0\\n 23 12  2  0\\n 23 24  1  0\\n 24 25  2  0\\n 25 13  1  0\\n 26 18  2  0\\n 27 26  1  0\\n 28 27  2  0\\n 28 19  1  0\\n  5 30  1  0\\n  7 31  1  0\\n  8 32  1  0\\n 10 33  1  0\\n 15 34  1  0\\n 15 35  1  0\\n 16 36  1  0\\n 16 37  1  0\\n 21 38  1  0\\n 21 39  1  0\\n 22 40  1  0\\n 22 41  1  0\\n 23 42  1  0\\n 24 43  1  0\\n 25 44  1  0\\n 26 45  1  0\\n 27 46  1  0\\n 28 47  1  0\\n 29 48  1  0\\n 29 49  1  0\\nM  END\\n\",\"sdf\");\n",
       "\tviewer_1696338792211717.addModel(\"m1_h2o_out.xyz\\n     RDKit          3D\\n\\n 49 50  0  0  0  0  0  0  0  0999 V2000\\n   -3.4128   -2.4242    1.7646 O   0  0  0  0  0  0  0  0  0  0  0  0\\n   -2.6005    3.1088   -2.4704 O   0  0  0  0  0  0  0  0  0  0  0  0\\n    1.5871    4.8228    2.8544 O   0  0  0  0  0  0  0  0  0  0  0  0\\n    0.9947   -0.9218    6.9169 O   0  0  0  0  0  0  0  0  0  0  0  0\\n   -1.5879   -1.0946    2.3034 N   0  0  0  0  0  0  0  0  0  0  0  0\\n   -2.6148    0.6165    0.1065 N   0  0  0  0  0  0  0  0  0  0  0  0\\n   -0.8379    2.7677   -1.0064 N   0  0  0  0  0  0  0  0  0  0  0  0\\n    1.5158    2.6891    1.9022 N   0  0  0  0  0  0  0  0  0  0  0  0\\n    1.1009    1.7560    4.6071 N   0  0  0  0  0  0  0  0  0  0  0  0\\n   -0.4446   -0.7330    5.1008 N   0  0  0  0  0  0  0  0  0  0  0  0\\n   -2.8300   -1.3157    1.6216 C   0  0  0  0  0  0  0  0  0  0  0  0\\n   -3.4178   -0.2955    0.7260 C   0  0  0  0  0  0  0  0  0  0  0  0\\n   -3.0992    1.5602   -0.7505 C   0  0  0  0  0  0  0  0  0  0  0  0\\n   -2.1840    2.5073   -1.4432 C   0  0  0  0  0  0  0  0  0  0  0  0\\n   -0.3238    2.4126    0.3157 C   0  0  0  0  0  0  0  0  0  0  0  0\\n    1.0201    3.0918    0.5877 C   0  0  0  0  0  0  0  0  0  0  0  0\\n    1.5504    3.5746    3.0311 C   0  0  0  0  0  0  0  0  0  0  0  0\\n    1.5499    3.0237    4.3998 C   0  0  0  0  0  0  0  0  0  0  0  0\\n    1.0591    1.1841    5.8409 C   0  0  0  0  0  0  0  0  0  0  0  0\\n    0.5442   -0.1928    5.9928 C   0  0  0  0  0  0  0  0  0  0  0  0\\n   -1.4837    0.0805    4.4666 C   0  0  0  0  0  0  0  0  0  0  0  0\\n   -1.2612    0.1727    2.9561 C   0  0  0  0  0  0  0  0  0  0  0  0\\n   -4.7955   -0.2864    0.4660 C   0  0  0  0  0  0  0  0  0  0  0  0\\n   -5.3222    0.6662   -0.4043 C   0  0  0  0  0  0  0  0  0  0  0  0\\n   -4.4784    1.5912   -1.0183 C   0  0  0  0  0  0  0  0  0  0  0  0\\n    1.9868    3.7848    5.4941 C   0  0  0  0  0  0  0  0  0  0  0  0\\n    1.9774    3.2167    6.7697 C   0  0  0  0  0  0  0  0  0  0  0  0\\n    1.5196    1.9098    6.9492 C   0  0  0  0  0  0  0  0  0  0  0  0\\n   -1.0292    1.1128    2.6880 O   0  0  0  0  0  0  0  0  0  0  0  0\\n   -0.8881    1.4124    2.4563 H   0  0  0  0  0  0  0  0  0  0  0  0\\n   -0.8881    1.4124    2.4563 H   0  0  0  0  0  0  0  0  0  0  0  0\\n   -0.8881    1.4124    2.4563 H   0  0  0  0  0  0  0  0  0  0  0  0\\n   -0.8881    1.4124    2.4563 H   0  0  0  0  0  0  0  0  0  0  0  0\\n   -0.8881    1.4124    2.4563 H   0  0  0  0  0  0  0  0  0  0  0  0\\n   -0.8881    1.4124    2.4563 H   0  0  0  0  0  0  0  0  0  0  0  0\\n   -0.8881    1.4124    2.4563 H   0  0  0  0  0  0  0  0  0  0  0  0\\n   -0.8881    1.4124    2.4563 H   0  0  0  0  0  0  0  0  0  0  0  0\\n   -0.8881    1.4124    2.4563 H   0  0  0  0  0  0  0  0  0  0  0  0\\n   -0.8881    1.4124    2.4563 H   0  0  0  0  0  0  0  0  0  0  0  0\\n   -0.8881    1.4124    2.4563 H   0  0  0  0  0  0  0  0  0  0  0  0\\n   -0.8881    1.4124    2.4563 H   0  0  0  0  0  0  0  0  0  0  0  0\\n   -0.8881    1.4124    2.4563 H   0  0  0  0  0  0  0  0  0  0  0  0\\n   -0.8881    1.4124    2.4563 H   0  0  0  0  0  0  0  0  0  0  0  0\\n   -0.8881    1.4124    2.4563 H   0  0  0  0  0  0  0  0  0  0  0  0\\n   -0.8881    1.4124    2.4563 H   0  0  0  0  0  0  0  0  0  0  0  0\\n   -0.8881    1.4124    2.4563 H   0  0  0  0  0  0  0  0  0  0  0  0\\n   -0.8881    1.4124    2.4563 H   0  0  0  0  0  0  0  0  0  0  0  0\\n   -0.8881    1.4124    2.4563 H   0  0  0  0  0  0  0  0  0  0  0  0\\n   -0.8881    1.4124    2.4563 H   0  0  0  0  0  0  0  0  0  0  0  0\\n  1 11  2  0\\n  4 20  2  0\\n  6 13  2  0\\n  7 15  1  0\\n  8 16  1  0\\n  9 18  1  0\\n 11  5  1  0\\n 11 12  1  0\\n 12  6  1  0\\n 13 14  1  0\\n 14  7  1  0\\n 14  2  2  0\\n 16 15  1  0\\n 17  3  2  0\\n 17  8  1  0\\n 18 17  1  0\\n 19  9  2  0\\n 20 19  1  0\\n 20 10  1  0\\n 21 10  1  0\\n 22 21  1  0\\n 22  5  1  0\\n 23 12  2  0\\n 23 24  1  0\\n 24 25  2  0\\n 25 13  1  0\\n 26 18  2  0\\n 27 26  1  0\\n 28 27  2  0\\n 28 19  1  0\\n  5 30  1  0\\n  7 31  1  0\\n  8 32  1  0\\n 10 33  1  0\\n 15 34  1  0\\n 15 35  1  0\\n 16 36  1  0\\n 16 37  1  0\\n 21 38  1  0\\n 21 39  1  0\\n 22 40  1  0\\n 22 41  1  0\\n 23 42  1  0\\n 24 43  1  0\\n 25 44  1  0\\n 26 45  1  0\\n 27 46  1  0\\n 28 47  1  0\\n 29 48  1  0\\n 29 49  1  0\\nM  END\\n\",\"sdf\");\n",
       "\tviewer_1696338792211717.addModel(\"m1_h2o_out.xyz\\n     RDKit          3D\\n\\n 49 50  0  0  0  0  0  0  0  0999 V2000\\n   -3.3937   -2.4271    1.7580 O   0  0  0  0  0  0  0  0  0  0  0  0\\n   -2.5742    3.0839   -2.4834 O   0  0  0  0  0  0  0  0  0  0  0  0\\n    1.1288    6.3258    1.1424 O   0  0  0  0  0  0  0  0  0  0  0  0\\n    2.0263    1.4613    6.0985 O   0  0  0  0  0  0  0  0  0  0  0  0\\n   -1.5594   -1.0894    2.2512 N   0  0  0  0  0  0  0  0  0  0  0  0\\n   -2.6177    0.6173    0.1077 N   0  0  0  0  0  0  0  0  0  0  0  0\\n   -0.8290    2.7458   -0.9944 N   0  0  0  0  0  0  0  0  0  0  0  0\\n   -0.6023    4.7924    1.3124 N   0  0  0  0  0  0  0  0  0  0  0  0\\n    1.2125    3.4580    3.2800 N   0  0  0  0  0  0  0  0  0  0  0  0\\n    0.1845    1.1166    4.7250 N   0  0  0  0  0  0  0  0  0  0  0  0\\n   -2.8151   -1.3181    1.6018 C   0  0  0  0  0  0  0  0  0  0  0  0\\n   -3.4169   -0.2953    0.7247 C   0  0  0  0  0  0  0  0  0  0  0  0\\n   -3.0991    1.5587   -0.7508 C   0  0  0  0  0  0  0  0  0  0  0  0\\n   -2.1745    2.4948   -1.4428 C   0  0  0  0  0  0  0  0  0  0  0  0\\n   -0.3377    2.5227    0.3660 C   0  0  0  0  0  0  0  0  0  0  0  0\\n   -1.0814    3.4109    1.3744 C   0  0  0  0  0  0  0  0  0  0  0  0\\n    0.7420    5.2187    1.6054 C   0  0  0  0  0  0  0  0  0  0  0  0\\n    1.6796    4.4273    2.4448 C   0  0  0  0  0  0  0  0  0  0  0  0\\n    2.0240    2.7429    4.1061 C   0  0  0  0  0  0  0  0  0  0  0  0\\n    1.4374    1.7445    5.0206 C   0  0  0  0  0  0  0  0  0  0  0  0\\n    0.0506    0.2623    3.5454 C   0  0  0  0  0  0  0  0  0  0  0  0\\n   -1.4270   -0.0196    3.2399 C   0  0  0  0  0  0  0  0  0  0  0  0\\n   -4.7948   -0.2875    0.4663 C   0  0  0  0  0  0  0  0  0  0  0  0\\n   -5.3219    0.6671   -0.4033 C   0  0  0  0  0  0  0  0  0  0  0  0\\n   -4.4776    1.5918   -1.0193 C   0  0  0  0  0  0  0  0  0  0  0  0\\n    3.0557    4.7094    2.4339 C   0  0  0  0  0  0  0  0  0  0  0  0\\n    3.9123    3.9941    3.2717 C   0  0  0  0  0  0  0  0  0  0  0  0\\n    3.3997    3.0119    4.1189 C   0  0  0  0  0  0  0  0  0  0  0  0\\n   -0.6319    2.3131    1.6175 O   0  0  0  0  0  0  0  0  0  0  0  0\\n   -0.7019    1.9472    1.7740 H   0  0  0  0  0  0  0  0  0  0  0  0\\n   -0.7019    1.9472    1.7740 H   0  0  0  0  0  0  0  0  0  0  0  0\\n   -0.7019    1.9472    1.7740 H   0  0  0  0  0  0  0  0  0  0  0  0\\n   -0.7019    1.9472    1.7740 H   0  0  0  0  0  0  0  0  0  0  0  0\\n   -0.7019    1.9472    1.7740 H   0  0  0  0  0  0  0  0  0  0  0  0\\n   -0.7019    1.9472    1.7740 H   0  0  0  0  0  0  0  0  0  0  0  0\\n   -0.7019    1.9472    1.7740 H   0  0  0  0  0  0  0  0  0  0  0  0\\n   -0.7019    1.9472    1.7740 H   0  0  0  0  0  0  0  0  0  0  0  0\\n   -0.7019    1.9472    1.7740 H   0  0  0  0  0  0  0  0  0  0  0  0\\n   -0.7019    1.9472    1.7740 H   0  0  0  0  0  0  0  0  0  0  0  0\\n   -0.7019    1.9472    1.7740 H   0  0  0  0  0  0  0  0  0  0  0  0\\n   -0.7019    1.9472    1.7740 H   0  0  0  0  0  0  0  0  0  0  0  0\\n   -0.7019    1.9472    1.7740 H   0  0  0  0  0  0  0  0  0  0  0  0\\n   -0.7019    1.9472    1.7740 H   0  0  0  0  0  0  0  0  0  0  0  0\\n   -0.7019    1.9472    1.7740 H   0  0  0  0  0  0  0  0  0  0  0  0\\n   -0.7019    1.9472    1.7740 H   0  0  0  0  0  0  0  0  0  0  0  0\\n   -0.7019    1.9472    1.7740 H   0  0  0  0  0  0  0  0  0  0  0  0\\n   -0.7019    1.9472    1.7740 H   0  0  0  0  0  0  0  0  0  0  0  0\\n   -0.7019    1.9472    1.7740 H   0  0  0  0  0  0  0  0  0  0  0  0\\n   -0.7019    1.9472    1.7740 H   0  0  0  0  0  0  0  0  0  0  0  0\\n  1 11  2  0\\n  4 20  2  0\\n  6 13  2  0\\n  7 15  1  0\\n  8 16  1  0\\n  9 18  1  0\\n 11  5  1  0\\n 11 12  1  0\\n 12  6  1  0\\n 13 14  1  0\\n 14  7  1  0\\n 14  2  2  0\\n 16 15  1  0\\n 17  3  2  0\\n 17  8  1  0\\n 18 17  1  0\\n 19  9  2  0\\n 20 19  1  0\\n 20 10  1  0\\n 21 10  1  0\\n 22 21  1  0\\n 22  5  1  0\\n 23 12  2  0\\n 23 24  1  0\\n 24 25  2  0\\n 25 13  1  0\\n 26 18  2  0\\n 27 26  1  0\\n 28 27  2  0\\n 28 19  1  0\\n  5 30  1  0\\n  7 31  1  0\\n  8 32  1  0\\n 10 33  1  0\\n 15 34  1  0\\n 15 35  1  0\\n 16 36  1  0\\n 16 37  1  0\\n 21 38  1  0\\n 21 39  1  0\\n 22 40  1  0\\n 22 41  1  0\\n 23 42  1  0\\n 24 43  1  0\\n 25 44  1  0\\n 26 45  1  0\\n 27 46  1  0\\n 28 47  1  0\\n 29 48  1  0\\n 29 49  1  0\\nM  END\\n\",\"sdf\");\n",
       "\tviewer_1696338792211717.addModel(\"m1_h2o_out.xyz\\n     RDKit          3D\\n\\n 49 50  0  0  0  0  0  0  0  0999 V2000\\n   -3.5174   -1.6000    2.6890 O   0  0  0  0  0  0  0  0  0  0  0  0\\n   -2.7390    3.5662   -1.9583 O   0  0  0  0  0  0  0  0  0  0  0  0\\n    3.5904    2.9969    1.4773 O   0  0  0  0  0  0  0  0  0  0  0  0\\n    2.9454   -2.8090   -2.3657 O   0  0  0  0  0  0  0  0  0  0  0  0\\n   -1.5497   -1.8555    1.4825 N   0  0  0  0  0  0  0  0  0  0  0  0\\n   -2.6153    0.6195    0.1101 N   0  0  0  0  0  0  0  0  0  0  0  0\\n   -0.7673    2.5661   -1.2812 N   0  0  0  0  0  0  0  0  0  0  0  0\\n    1.4171    2.4436    0.9142 N   0  0  0  0  0  0  0  0  0  0  0  0\\n    2.6843   -0.0870   -0.1491 N   0  0  0  0  0  0  0  0  0  0  0  0\\n    1.0001   -2.3809   -1.1718 N   0  0  0  0  0  0  0  0  0  0  0  0\\n   -2.8483   -1.2762    1.6708 C   0  0  0  0  0  0  0  0  0  0  0  0\\n   -3.4177   -0.3019    0.7168 C   0  0  0  0  0  0  0  0  0  0  0  0\\n   -3.0979    1.5630   -0.7492 C   0  0  0  0  0  0  0  0  0  0  0  0\\n   -2.2062    2.5956   -1.3543 C   0  0  0  0  0  0  0  0  0  0  0  0\\n    0.0482    1.4306   -0.8598 C   0  0  0  0  0  0  0  0  0  0  0  0\\n    0.3325    1.5039    0.6448 C   0  0  0  0  0  0  0  0  0  0  0  0\\n    2.8175    2.1172    1.0090 C   0  0  0  0  0  0  0  0  0  0  0  0\\n    3.4065    0.8163    0.5748 C   0  0  0  0  0  0  0  0  0  0  0  0\\n    3.2152   -1.2591   -0.6023 C   0  0  0  0  0  0  0  0  0  0  0  0\\n    2.3995   -2.1834   -1.4172 C   0  0  0  0  0  0  0  0  0  0  0  0\\n    0.4540   -2.4573    0.1829 C   0  0  0  0  0  0  0  0  0  0  0  0\\n   -1.0662   -2.2615    0.1631 C   0  0  0  0  0  0  0  0  0  0  0  0\\n   -4.7971   -0.2799    0.4737 C   0  0  0  0  0  0  0  0  0  0  0  0\\n   -5.3219    0.6636   -0.4060 C   0  0  0  0  0  0  0  0  0  0  0  0\\n   -4.4781    1.5879   -1.0200 C   0  0  0  0  0  0  0  0  0  0  0  0\\n    4.7528    0.5288    0.8646 C   0  0  0  0  0  0  0  0  0  0  0  0\\n    5.3227   -0.6576    0.4053 C   0  0  0  0  0  0  0  0  0  0  0  0\\n    4.5594   -1.5531   -0.3395 C   0  0  0  0  0  0  0  0  0  0  0  0\\n   -0.0004    0.4041   -0.0000 O   0  0  0  0  0  0  0  0  0  0  0  0\\n    0.0000   -0.0000   -0.0000 H   0  0  0  0  0  0  0  0  0  0  0  0\\n    0.0000   -0.0000   -0.0000 H   0  0  0  0  0  0  0  0  0  0  0  0\\n    0.0000   -0.0000   -0.0000 H   0  0  0  0  0  0  0  0  0  0  0  0\\n    0.0000   -0.0000   -0.0000 H   0  0  0  0  0  0  0  0  0  0  0  0\\n    0.0000   -0.0000   -0.0000 H   0  0  0  0  0  0  0  0  0  0  0  0\\n    0.0000   -0.0000   -0.0000 H   0  0  0  0  0  0  0  0  0  0  0  0\\n    0.0000   -0.0000   -0.0000 H   0  0  0  0  0  0  0  0  0  0  0  0\\n    0.0000   -0.0000   -0.0000 H   0  0  0  0  0  0  0  0  0  0  0  0\\n    0.0000   -0.0000   -0.0000 H   0  0  0  0  0  0  0  0  0  0  0  0\\n    0.0000   -0.0000   -0.0000 H   0  0  0  0  0  0  0  0  0  0  0  0\\n    0.0000   -0.0000   -0.0000 H   0  0  0  0  0  0  0  0  0  0  0  0\\n    0.0000   -0.0000   -0.0000 H   0  0  0  0  0  0  0  0  0  0  0  0\\n    0.0000   -0.0000   -0.0000 H   0  0  0  0  0  0  0  0  0  0  0  0\\n    0.0000   -0.0000   -0.0000 H   0  0  0  0  0  0  0  0  0  0  0  0\\n    0.0000   -0.0000   -0.0000 H   0  0  0  0  0  0  0  0  0  0  0  0\\n    0.0000   -0.0000   -0.0000 H   0  0  0  0  0  0  0  0  0  0  0  0\\n    0.0000   -0.0000   -0.0000 H   0  0  0  0  0  0  0  0  0  0  0  0\\n    0.0000   -0.0000   -0.0000 H   0  0  0  0  0  0  0  0  0  0  0  0\\n    0.0000   -0.0000   -0.0000 H   0  0  0  0  0  0  0  0  0  0  0  0\\n    0.0000   -0.0000   -0.0000 H   0  0  0  0  0  0  0  0  0  0  0  0\\n  1 11  2  0\\n  4 20  2  0\\n  6 13  2  0\\n  7 15  1  0\\n  8 16  1  0\\n  9 18  1  0\\n 11  5  1  0\\n 11 12  1  0\\n 12  6  1  0\\n 13 14  1  0\\n 14  7  1  0\\n 14  2  2  0\\n 16 15  1  0\\n 17  3  2  0\\n 17  8  1  0\\n 18 17  1  0\\n 19  9  2  0\\n 20 19  1  0\\n 20 10  1  0\\n 21 10  1  0\\n 22 21  1  0\\n 22  5  1  0\\n 23 12  2  0\\n 23 24  1  0\\n 24 25  2  0\\n 25 13  1  0\\n 26 18  2  0\\n 27 26  1  0\\n 28 27  2  0\\n 28 19  1  0\\n  5 30  1  0\\n  7 31  1  0\\n  8 32  1  0\\n 10 33  1  0\\n 15 34  1  0\\n 15 35  1  0\\n 16 36  1  0\\n 16 37  1  0\\n 21 38  1  0\\n 21 39  1  0\\n 22 40  1  0\\n 22 41  1  0\\n 23 42  1  0\\n 24 43  1  0\\n 25 44  1  0\\n 26 45  1  0\\n 27 46  1  0\\n 28 47  1  0\\n 29 48  1  0\\n 29 49  1  0\\nM  END\\n\",\"sdf\");\n",
       "\tviewer_1696338792211717.setStyle({\"stick\": {\"radius\": \"0.15\"}});\n",
       "\tviewer_1696338792211717.setBackgroundColor(\"0xeeeeee\");\n",
       "\tviewer_1696338792211717.zoomTo();\n",
       "viewer_1696338792211717.render();\n",
       "});\n",
       "</script>"
      ]
     },
     "metadata": {},
     "output_type": "display_data"
    }
   ],
   "source": [
    "p = align_structures_to_lowest_energy_and_show(moldict, energies, core_smiles)\n",
    "p.show()"
   ]
  },
  {
   "cell_type": "code",
   "execution_count": 8,
   "metadata": {},
   "outputs": [
    {
     "data": {
      "text/plain": [
       "[(('m1_h2o_in_conformers_from_rdkit_0', 'm1_h2o_out_conformers_from_rdkit_0'),\n",
       "  0.733951463091113),\n",
       " (('m1_h2o_in_conformers_from_rdkit_0', 'm1_h2o_out_conformers_from_rdkit_1'),\n",
       "  0.7407696948403357),\n",
       " (('m1_h2o_in_conformers_from_rdkit_0', 'm1_h2o_out_conformers_from_rdkit_2'),\n",
       "  0.812910819741077),\n",
       " (('m1_h2o_in_conformers_from_rdkit_1', 'm1_h2o_out_conformers_from_rdkit_1'),\n",
       "  0.8529479915629845),\n",
       " (('m1_h2o_out_conformers_from_rdkit_0', 'm1_h2o_out_conformers_from_rdkit_1'),\n",
       "  0.8696061915931911),\n",
       " (('m1_h2o_in_conformers_from_rdkit_1', 'm1_h2o_out_conformers_from_rdkit_0'),\n",
       "  0.8746202345780906),\n",
       " (('m1_h2o_in_conformers_from_rdkit_0', 'm1_h2o_in_conformers_from_rdkit_1'),\n",
       "  0.9645476311420325),\n",
       " (('m1_h2o_out_conformers_from_rdkit_1', 'm1_h2o_out_conformers_from_rdkit_2'),\n",
       "  1.0416603999400982),\n",
       " (('m1_h2o_out_conformers_from_rdkit_0', 'm1_h2o_out_conformers_from_rdkit_2'),\n",
       "  1.136199837621698),\n",
       " (('m1_h2o_in_conformers_from_rdkit_1', 'm1_h2o_out_conformers_from_rdkit_2'),\n",
       "  1.5330295202564022)]"
      ]
     },
     "execution_count": 8,
     "metadata": {},
     "output_type": "execute_result"
    }
   ],
   "source": [
    "# Let's now do some post-analysis. Our goal is to (1) prune the set of conformers and (2) add some similarity measures to our analysis.\n",
    "\n",
    "# For that, we first calculate the similarity matrix between all pairs of conformers and sort its elements\n",
    "# from the lowest values (the most similar structures) to the largest values (the most different structures)\n",
    "similarity_matrix = make_similarity_matrix(moldict)\n",
    "similarity_matrix_sorted = sorted(similarity_matrix.items(), key=lambda x: x[1])\n",
    "similarity_matrix_sorted"
   ]
  },
  {
   "cell_type": "code",
   "execution_count": 9,
   "metadata": {},
   "outputs": [],
   "source": [
    "# Then, we select \"key atoms\" in the systems we study, such as atoms that are/can be involved in non-covalent interactions.\n",
    "# In this case, we look for\n",
    "O_h2o, O_amide, H_h2o, H_amide, N_amide, N_arom = find_atoms(moldict)"
   ]
  },
  {
   "cell_type": "code",
   "execution_count": 10,
   "metadata": {},
   "outputs": [],
   "source": [
    "dist_Oh2o_Hamide, dist_Hh2o_Narom, dist_Hh2o_Namide, dist_Hh2o_Oamide = get_distances(moldict,\n",
    "                                                                                      O_h2o=O_h2o,\n",
    "                                                                                      O_amide=O_amide,\n",
    "                                                                                      H_h2o=H_h2o,\n",
    "                                                                                      H_amide=H_amide,\n",
    "                                                                                      N_amide=N_amide,\n",
    "                                                                                      N_arom=N_arom)\n",
    "\n",
    "#print(dist_Oh2o_Hamide, dist_Hh2o_Narom, dist_Hh2o_Namide, dist_Hh2o_Oamide)"
   ]
  },
  {
   "cell_type": "code",
   "execution_count": 11,
   "metadata": {},
   "outputs": [
    {
     "name": "stdout",
     "output_type": "stream",
     "text": [
      "to_be_deleted:  m1_h2o_out_conformers_from_rdkit_0\n",
      "to_be_deleted:  m1_h2o_out_conformers_from_rdkit_1\n",
      "to_be_deleted:  m1_h2o_in_conformers_from_rdkit_0\n",
      "to_be_deleted:  m1_h2o_out_conformers_from_rdkit_1\n",
      "to_be_deleted:  m1_h2o_out_conformers_from_rdkit_1\n",
      "to_be_deleted:  m1_h2o_out_conformers_from_rdkit_0\n",
      "to_be_deleted:  m1_h2o_in_conformers_from_rdkit_0\n",
      "Number of conformers after removal of duplicates:  2\n"
     ]
    }
   ],
   "source": [
    "# 2. remove duplicates:\n",
    "# for all pairs of structures, for which the similarity value is lower than the threshold (\"similarity_thresh\"), \n",
    "# compare distances of H2O - macrocycle; then finally compare energies\n",
    "to_be_deleted = find_duplicates_in_sorted_similarity_matrix_noncovalent(\n",
    "    similarity_matrix_sorted,\n",
    "    energies,\n",
    "    dist_Oh2o_Hamide,\n",
    "    dist_Hh2o_Narom,\n",
    "    dist_Hh2o_Namide,\n",
    "    dist_Hh2o_Oamide)\n",
    "\n",
    "for mol in to_be_deleted:\n",
    "    print(\"to_be_deleted: \", mol)\n",
    "    to_be_deleted_keys = list(k for k in similarity_matrix.keys() if mol in k)\n",
    "    for k in to_be_deleted_keys:\n",
    "        del similarity_matrix[k]\n",
    "    moldict.pop(mol, None)\n",
    "    energies.pop(mol, None)\n",
    "    \n",
    "print(\"Number of conformers after removal of duplicates: \", len(moldict))    "
   ]
  },
  {
   "cell_type": "code",
   "execution_count": 12,
   "metadata": {},
   "outputs": [
    {
     "name": "stdout",
     "output_type": "stream",
     "text": [
      "2\n"
     ]
    }
   ],
   "source": [
    "print(len(moldict))"
   ]
  },
  {
   "cell_type": "code",
   "execution_count": 13,
   "metadata": {},
   "outputs": [
    {
     "name": "stdout",
     "output_type": "stream",
     "text": [
      "All the selected conformers (aligned), pre-optimized with MM methods:\n"
     ]
    },
    {
     "data": {
      "application/3dmoljs_load.v0": "<div id=\"3dmolviewer_16963387923959801\"  style=\"position: relative; width: 400px; height: 400px\">\n        <p id=\"3dmolwarning_16963387923959801\" style=\"background-color:#ffcccc;color:black\">You appear to be running in JupyterLab (or JavaScript failed to load for some other reason).  You need to install the 3dmol extension: <br>\n        <tt>jupyter labextension install jupyterlab_3dmol</tt></p>\n        </div>\n<script>\n\nvar loadScriptAsync = function(uri){\n  return new Promise((resolve, reject) => {\n    //this is to ignore the existence of requirejs amd\n    var savedexports, savedmodule;\n    if (typeof exports !== 'undefined') savedexports = exports;\n    else exports = {}\n    if (typeof module !== 'undefined') savedmodule = module;\n    else module = {}\n\n    var tag = document.createElement('script');\n    tag.src = uri;\n    tag.async = true;\n    tag.onload = () => {\n        exports = savedexports;\n        module = savedmodule;\n        resolve();\n    };\n  var firstScriptTag = document.getElementsByTagName('script')[0];\n  firstScriptTag.parentNode.insertBefore(tag, firstScriptTag);\n});\n};\n\nif(typeof $3Dmolpromise === 'undefined') {\n$3Dmolpromise = null;\n  $3Dmolpromise = loadScriptAsync('https://cdnjs.cloudflare.com/ajax/libs/3Dmol/2.0.1/3Dmol-min.js');\n}\n\nvar viewer_16963387923959801 = null;\nvar warn = document.getElementById(\"3dmolwarning_16963387923959801\");\nif(warn) {\n    warn.parentNode.removeChild(warn);\n}\n$3Dmolpromise.then(function() {\nviewer_16963387923959801 = $3Dmol.createViewer(document.getElementById(\"3dmolviewer_16963387923959801\"),{backgroundColor:\"white\"});\nviewer_16963387923959801.zoomTo();\n\tviewer_16963387923959801.addModel(\"m1_h2o_in.xyz\\n     RDKit          3D\\n\\n 49 50  0  0  0  0  0  0  0  0999 V2000\\n   -3.3465   -2.4735    1.6433 O   0  0  0  0  0  0  0  0  0  0  0  0\\n   -2.5699    3.0168   -2.5384 O   0  0  0  0  0  0  0  0  0  0  0  0\\n    4.3085    2.3758    0.0442 O   0  0  0  0  0  0  0  0  0  0  0  0\\n    1.1668    2.2413    6.4006 O   0  0  0  0  0  0  0  0  0  0  0  0\\n   -1.6580   -1.0593    2.3814 N   0  0  0  0  0  0  0  0  0  0  0  0\\n   -2.6135    0.6187    0.1099 N   0  0  0  0  0  0  0  0  0  0  0  0\\n   -0.8320    2.7094   -1.0364 N   0  0  0  0  0  0  0  0  0  0  0  0\\n    1.9931    2.5046    0.1359 N   0  0  0  0  0  0  0  0  0  0  0  0\\n    2.3406    2.1774    3.0294 N   0  0  0  0  0  0  0  0  0  0  0  0\\n   -0.0650    1.5425    4.5617 N   0  0  0  0  0  0  0  0  0  0  0  0\\n   -2.8276   -1.3255    1.5992 C   0  0  0  0  0  0  0  0  0  0  0  0\\n   -3.4178   -0.2948    0.7242 C   0  0  0  0  0  0  0  0  0  0  0  0\\n   -3.0998    1.5566   -0.7519 C   0  0  0  0  0  0  0  0  0  0  0  0\\n   -2.1766    2.4642   -1.4754 C   0  0  0  0  0  0  0  0  0  0  0  0\\n   -0.4485    2.7351    0.3764 C   0  0  0  0  0  0  0  0  0  0  0  0\\n    0.9191    3.4028    0.5689 C   0  0  0  0  0  0  0  0  0  0  0  0\\n    3.2806    2.4457    0.7707 C   0  0  0  0  0  0  0  0  0  0  0  0\\n    3.4293    2.3970    2.2443 C   0  0  0  0  0  0  0  0  0  0  0  0\\n    2.4081    2.1088    4.3861 C   0  0  0  0  0  0  0  0  0  0  0  0\\n    1.1657    1.9523    5.1735 C   0  0  0  0  0  0  0  0  0  0  0  0\\n   -0.1359    0.4085    3.6373 C   0  0  0  0  0  0  0  0  0  0  0  0\\n   -1.5862    0.1187    3.2440 C   0  0  0  0  0  0  0  0  0  0  0  0\\n   -4.7951   -0.2875    0.4638 C   0  0  0  0  0  0  0  0  0  0  0  0\\n   -5.3231    0.6683   -0.4021 C   0  0  0  0  0  0  0  0  0  0  0  0\\n   -4.4787    1.5909   -1.0185 C   0  0  0  0  0  0  0  0  0  0  0  0\\n    4.6877    2.5421    2.8497 C   0  0  0  0  0  0  0  0  0  0  0  0\\n    4.7923    2.4741    4.2399 C   0  0  0  0  0  0  0  0  0  0  0  0\\n    3.6519    2.2637    5.0167 C   0  0  0  0  0  0  0  0  0  0  0  0\\n   -0.0029    1.7591    1.5051 O   0  0  0  0  0  0  0  0  0  0  0  0\\n   -0.2222    1.5170    1.7429 H   0  0  0  0  0  0  0  0  0  0  0  0\\n   -0.2222    1.5170    1.7429 H   0  0  0  0  0  0  0  0  0  0  0  0\\n   -0.2222    1.5170    1.7429 H   0  0  0  0  0  0  0  0  0  0  0  0\\n   -0.2222    1.5170    1.7429 H   0  0  0  0  0  0  0  0  0  0  0  0\\n   -0.2222    1.5170    1.7429 H   0  0  0  0  0  0  0  0  0  0  0  0\\n   -0.2222    1.5170    1.7429 H   0  0  0  0  0  0  0  0  0  0  0  0\\n   -0.2222    1.5170    1.7429 H   0  0  0  0  0  0  0  0  0  0  0  0\\n   -0.2222    1.5170    1.7429 H   0  0  0  0  0  0  0  0  0  0  0  0\\n   -0.2222    1.5170    1.7429 H   0  0  0  0  0  0  0  0  0  0  0  0\\n   -0.2222    1.5170    1.7429 H   0  0  0  0  0  0  0  0  0  0  0  0\\n   -0.2222    1.5170    1.7429 H   0  0  0  0  0  0  0  0  0  0  0  0\\n   -0.2222    1.5170    1.7429 H   0  0  0  0  0  0  0  0  0  0  0  0\\n   -0.2222    1.5170    1.7429 H   0  0  0  0  0  0  0  0  0  0  0  0\\n   -0.2222    1.5170    1.7429 H   0  0  0  0  0  0  0  0  0  0  0  0\\n   -0.2222    1.5170    1.7429 H   0  0  0  0  0  0  0  0  0  0  0  0\\n   -0.2222    1.5170    1.7429 H   0  0  0  0  0  0  0  0  0  0  0  0\\n   -0.2222    1.5170    1.7429 H   0  0  0  0  0  0  0  0  0  0  0  0\\n   -0.2222    1.5170    1.7429 H   0  0  0  0  0  0  0  0  0  0  0  0\\n   -0.2222    1.5170    1.7429 H   0  0  0  0  0  0  0  0  0  0  0  0\\n   -0.2222    1.5170    1.7429 H   0  0  0  0  0  0  0  0  0  0  0  0\\n  1 11  2  0\\n  4 20  2  0\\n  6 13  2  0\\n  7 14  1  0\\n  7 15  1  0\\n  8 16  1  0\\n  9 18  1  0\\n 11  5  1  0\\n 11 12  1  0\\n 12  6  1  0\\n 13 14  1  0\\n 14  2  2  0\\n 16 15  1  0\\n 17  3  2  0\\n 17  8  1  0\\n 18 17  1  0\\n 19  9  2  0\\n 20 19  1  0\\n 20 10  1  0\\n 21 10  1  0\\n 22 21  1  0\\n 22  5  1  0\\n 23 12  2  0\\n 23 24  1  0\\n 24 25  2  0\\n 25 13  1  0\\n 26 18  2  0\\n 27 26  1  0\\n 28 27  2  0\\n 28 19  1  0\\n  5 30  1  0\\n  7 31  1  0\\n  8 32  1  0\\n 10 33  1  0\\n 15 34  1  0\\n 15 35  1  0\\n 16 36  1  0\\n 16 37  1  0\\n 21 38  1  0\\n 21 39  1  0\\n 22 40  1  0\\n 22 41  1  0\\n 23 42  1  0\\n 24 43  1  0\\n 25 44  1  0\\n 26 45  1  0\\n 27 46  1  0\\n 28 47  1  0\\n 29 48  1  0\\n 29 49  1  0\\nM  END\\n\",\"sdf\");\n\tviewer_16963387923959801.addModel(\"m1_h2o_out.xyz\\n     RDKit          3D\\n\\n 49 50  0  0  0  0  0  0  0  0999 V2000\\n   -3.5174   -1.6000    2.6890 O   0  0  0  0  0  0  0  0  0  0  0  0\\n   -2.7390    3.5662   -1.9583 O   0  0  0  0  0  0  0  0  0  0  0  0\\n    3.5904    2.9969    1.4773 O   0  0  0  0  0  0  0  0  0  0  0  0\\n    2.9454   -2.8090   -2.3657 O   0  0  0  0  0  0  0  0  0  0  0  0\\n   -1.5497   -1.8555    1.4825 N   0  0  0  0  0  0  0  0  0  0  0  0\\n   -2.6153    0.6195    0.1101 N   0  0  0  0  0  0  0  0  0  0  0  0\\n   -0.7673    2.5661   -1.2812 N   0  0  0  0  0  0  0  0  0  0  0  0\\n    1.4171    2.4436    0.9142 N   0  0  0  0  0  0  0  0  0  0  0  0\\n    2.6843   -0.0870   -0.1491 N   0  0  0  0  0  0  0  0  0  0  0  0\\n    1.0001   -2.3809   -1.1718 N   0  0  0  0  0  0  0  0  0  0  0  0\\n   -2.8483   -1.2762    1.6708 C   0  0  0  0  0  0  0  0  0  0  0  0\\n   -3.4177   -0.3019    0.7168 C   0  0  0  0  0  0  0  0  0  0  0  0\\n   -3.0979    1.5630   -0.7492 C   0  0  0  0  0  0  0  0  0  0  0  0\\n   -2.2062    2.5956   -1.3543 C   0  0  0  0  0  0  0  0  0  0  0  0\\n    0.0482    1.4306   -0.8598 C   0  0  0  0  0  0  0  0  0  0  0  0\\n    0.3325    1.5039    0.6448 C   0  0  0  0  0  0  0  0  0  0  0  0\\n    2.8175    2.1172    1.0090 C   0  0  0  0  0  0  0  0  0  0  0  0\\n    3.4065    0.8163    0.5748 C   0  0  0  0  0  0  0  0  0  0  0  0\\n    3.2152   -1.2591   -0.6023 C   0  0  0  0  0  0  0  0  0  0  0  0\\n    2.3995   -2.1834   -1.4172 C   0  0  0  0  0  0  0  0  0  0  0  0\\n    0.4540   -2.4573    0.1829 C   0  0  0  0  0  0  0  0  0  0  0  0\\n   -1.0662   -2.2615    0.1631 C   0  0  0  0  0  0  0  0  0  0  0  0\\n   -4.7971   -0.2799    0.4737 C   0  0  0  0  0  0  0  0  0  0  0  0\\n   -5.3219    0.6636   -0.4060 C   0  0  0  0  0  0  0  0  0  0  0  0\\n   -4.4781    1.5879   -1.0200 C   0  0  0  0  0  0  0  0  0  0  0  0\\n    4.7528    0.5288    0.8646 C   0  0  0  0  0  0  0  0  0  0  0  0\\n    5.3227   -0.6576    0.4053 C   0  0  0  0  0  0  0  0  0  0  0  0\\n    4.5594   -1.5531   -0.3395 C   0  0  0  0  0  0  0  0  0  0  0  0\\n   -0.0004    0.4041   -0.0000 O   0  0  0  0  0  0  0  0  0  0  0  0\\n   -0.0000   -0.0000   -0.0000 H   0  0  0  0  0  0  0  0  0  0  0  0\\n   -0.0000   -0.0000   -0.0000 H   0  0  0  0  0  0  0  0  0  0  0  0\\n   -0.0000   -0.0000   -0.0000 H   0  0  0  0  0  0  0  0  0  0  0  0\\n   -0.0000   -0.0000   -0.0000 H   0  0  0  0  0  0  0  0  0  0  0  0\\n   -0.0000   -0.0000   -0.0000 H   0  0  0  0  0  0  0  0  0  0  0  0\\n   -0.0000   -0.0000   -0.0000 H   0  0  0  0  0  0  0  0  0  0  0  0\\n   -0.0000   -0.0000   -0.0000 H   0  0  0  0  0  0  0  0  0  0  0  0\\n   -0.0000   -0.0000   -0.0000 H   0  0  0  0  0  0  0  0  0  0  0  0\\n   -0.0000   -0.0000   -0.0000 H   0  0  0  0  0  0  0  0  0  0  0  0\\n   -0.0000   -0.0000   -0.0000 H   0  0  0  0  0  0  0  0  0  0  0  0\\n   -0.0000   -0.0000   -0.0000 H   0  0  0  0  0  0  0  0  0  0  0  0\\n   -0.0000   -0.0000   -0.0000 H   0  0  0  0  0  0  0  0  0  0  0  0\\n   -0.0000   -0.0000   -0.0000 H   0  0  0  0  0  0  0  0  0  0  0  0\\n   -0.0000   -0.0000   -0.0000 H   0  0  0  0  0  0  0  0  0  0  0  0\\n   -0.0000   -0.0000   -0.0000 H   0  0  0  0  0  0  0  0  0  0  0  0\\n   -0.0000   -0.0000   -0.0000 H   0  0  0  0  0  0  0  0  0  0  0  0\\n   -0.0000   -0.0000   -0.0000 H   0  0  0  0  0  0  0  0  0  0  0  0\\n   -0.0000   -0.0000   -0.0000 H   0  0  0  0  0  0  0  0  0  0  0  0\\n   -0.0000   -0.0000   -0.0000 H   0  0  0  0  0  0  0  0  0  0  0  0\\n   -0.0000   -0.0000   -0.0000 H   0  0  0  0  0  0  0  0  0  0  0  0\\n  1 11  2  0\\n  4 20  2  0\\n  6 13  2  0\\n  7 15  1  0\\n  8 16  1  0\\n  9 18  1  0\\n 11  5  1  0\\n 11 12  1  0\\n 12  6  1  0\\n 13 14  1  0\\n 14  7  1  0\\n 14  2  2  0\\n 16 15  1  0\\n 17  3  2  0\\n 17  8  1  0\\n 18 17  1  0\\n 19  9  2  0\\n 20 19  1  0\\n 20 10  1  0\\n 21 10  1  0\\n 22 21  1  0\\n 22  5  1  0\\n 23 12  2  0\\n 23 24  1  0\\n 24 25  2  0\\n 25 13  1  0\\n 26 18  2  0\\n 27 26  1  0\\n 28 27  2  0\\n 28 19  1  0\\n  5 30  1  0\\n  7 31  1  0\\n  8 32  1  0\\n 10 33  1  0\\n 15 34  1  0\\n 15 35  1  0\\n 16 36  1  0\\n 16 37  1  0\\n 21 38  1  0\\n 21 39  1  0\\n 22 40  1  0\\n 22 41  1  0\\n 23 42  1  0\\n 24 43  1  0\\n 25 44  1  0\\n 26 45  1  0\\n 27 46  1  0\\n 28 47  1  0\\n 29 48  1  0\\n 29 49  1  0\\nM  END\\n\",\"sdf\");\n\tviewer_16963387923959801.setStyle({\"stick\": {\"radius\": \"0.15\"}});\n\tviewer_16963387923959801.setBackgroundColor(\"0xeeeeee\");\n\tviewer_16963387923959801.zoomTo();\nviewer_16963387923959801.render();\n});\n</script>",
      "text/html": [
       "<div id=\"3dmolviewer_16963387923959801\"  style=\"position: relative; width: 400px; height: 400px\">\n",
       "        <p id=\"3dmolwarning_16963387923959801\" style=\"background-color:#ffcccc;color:black\">You appear to be running in JupyterLab (or JavaScript failed to load for some other reason).  You need to install the 3dmol extension: <br>\n",
       "        <tt>jupyter labextension install jupyterlab_3dmol</tt></p>\n",
       "        </div>\n",
       "<script>\n",
       "\n",
       "var loadScriptAsync = function(uri){\n",
       "  return new Promise((resolve, reject) => {\n",
       "    //this is to ignore the existence of requirejs amd\n",
       "    var savedexports, savedmodule;\n",
       "    if (typeof exports !== 'undefined') savedexports = exports;\n",
       "    else exports = {}\n",
       "    if (typeof module !== 'undefined') savedmodule = module;\n",
       "    else module = {}\n",
       "\n",
       "    var tag = document.createElement('script');\n",
       "    tag.src = uri;\n",
       "    tag.async = true;\n",
       "    tag.onload = () => {\n",
       "        exports = savedexports;\n",
       "        module = savedmodule;\n",
       "        resolve();\n",
       "    };\n",
       "  var firstScriptTag = document.getElementsByTagName('script')[0];\n",
       "  firstScriptTag.parentNode.insertBefore(tag, firstScriptTag);\n",
       "});\n",
       "};\n",
       "\n",
       "if(typeof $3Dmolpromise === 'undefined') {\n",
       "$3Dmolpromise = null;\n",
       "  $3Dmolpromise = loadScriptAsync('https://cdnjs.cloudflare.com/ajax/libs/3Dmol/2.0.1/3Dmol-min.js');\n",
       "}\n",
       "\n",
       "var viewer_16963387923959801 = null;\n",
       "var warn = document.getElementById(\"3dmolwarning_16963387923959801\");\n",
       "if(warn) {\n",
       "    warn.parentNode.removeChild(warn);\n",
       "}\n",
       "$3Dmolpromise.then(function() {\n",
       "viewer_16963387923959801 = $3Dmol.createViewer(document.getElementById(\"3dmolviewer_16963387923959801\"),{backgroundColor:\"white\"});\n",
       "viewer_16963387923959801.zoomTo();\n",
       "\tviewer_16963387923959801.addModel(\"m1_h2o_in.xyz\\n     RDKit          3D\\n\\n 49 50  0  0  0  0  0  0  0  0999 V2000\\n   -3.3465   -2.4735    1.6433 O   0  0  0  0  0  0  0  0  0  0  0  0\\n   -2.5699    3.0168   -2.5384 O   0  0  0  0  0  0  0  0  0  0  0  0\\n    4.3085    2.3758    0.0442 O   0  0  0  0  0  0  0  0  0  0  0  0\\n    1.1668    2.2413    6.4006 O   0  0  0  0  0  0  0  0  0  0  0  0\\n   -1.6580   -1.0593    2.3814 N   0  0  0  0  0  0  0  0  0  0  0  0\\n   -2.6135    0.6187    0.1099 N   0  0  0  0  0  0  0  0  0  0  0  0\\n   -0.8320    2.7094   -1.0364 N   0  0  0  0  0  0  0  0  0  0  0  0\\n    1.9931    2.5046    0.1359 N   0  0  0  0  0  0  0  0  0  0  0  0\\n    2.3406    2.1774    3.0294 N   0  0  0  0  0  0  0  0  0  0  0  0\\n   -0.0650    1.5425    4.5617 N   0  0  0  0  0  0  0  0  0  0  0  0\\n   -2.8276   -1.3255    1.5992 C   0  0  0  0  0  0  0  0  0  0  0  0\\n   -3.4178   -0.2948    0.7242 C   0  0  0  0  0  0  0  0  0  0  0  0\\n   -3.0998    1.5566   -0.7519 C   0  0  0  0  0  0  0  0  0  0  0  0\\n   -2.1766    2.4642   -1.4754 C   0  0  0  0  0  0  0  0  0  0  0  0\\n   -0.4485    2.7351    0.3764 C   0  0  0  0  0  0  0  0  0  0  0  0\\n    0.9191    3.4028    0.5689 C   0  0  0  0  0  0  0  0  0  0  0  0\\n    3.2806    2.4457    0.7707 C   0  0  0  0  0  0  0  0  0  0  0  0\\n    3.4293    2.3970    2.2443 C   0  0  0  0  0  0  0  0  0  0  0  0\\n    2.4081    2.1088    4.3861 C   0  0  0  0  0  0  0  0  0  0  0  0\\n    1.1657    1.9523    5.1735 C   0  0  0  0  0  0  0  0  0  0  0  0\\n   -0.1359    0.4085    3.6373 C   0  0  0  0  0  0  0  0  0  0  0  0\\n   -1.5862    0.1187    3.2440 C   0  0  0  0  0  0  0  0  0  0  0  0\\n   -4.7951   -0.2875    0.4638 C   0  0  0  0  0  0  0  0  0  0  0  0\\n   -5.3231    0.6683   -0.4021 C   0  0  0  0  0  0  0  0  0  0  0  0\\n   -4.4787    1.5909   -1.0185 C   0  0  0  0  0  0  0  0  0  0  0  0\\n    4.6877    2.5421    2.8497 C   0  0  0  0  0  0  0  0  0  0  0  0\\n    4.7923    2.4741    4.2399 C   0  0  0  0  0  0  0  0  0  0  0  0\\n    3.6519    2.2637    5.0167 C   0  0  0  0  0  0  0  0  0  0  0  0\\n   -0.0029    1.7591    1.5051 O   0  0  0  0  0  0  0  0  0  0  0  0\\n   -0.2222    1.5170    1.7429 H   0  0  0  0  0  0  0  0  0  0  0  0\\n   -0.2222    1.5170    1.7429 H   0  0  0  0  0  0  0  0  0  0  0  0\\n   -0.2222    1.5170    1.7429 H   0  0  0  0  0  0  0  0  0  0  0  0\\n   -0.2222    1.5170    1.7429 H   0  0  0  0  0  0  0  0  0  0  0  0\\n   -0.2222    1.5170    1.7429 H   0  0  0  0  0  0  0  0  0  0  0  0\\n   -0.2222    1.5170    1.7429 H   0  0  0  0  0  0  0  0  0  0  0  0\\n   -0.2222    1.5170    1.7429 H   0  0  0  0  0  0  0  0  0  0  0  0\\n   -0.2222    1.5170    1.7429 H   0  0  0  0  0  0  0  0  0  0  0  0\\n   -0.2222    1.5170    1.7429 H   0  0  0  0  0  0  0  0  0  0  0  0\\n   -0.2222    1.5170    1.7429 H   0  0  0  0  0  0  0  0  0  0  0  0\\n   -0.2222    1.5170    1.7429 H   0  0  0  0  0  0  0  0  0  0  0  0\\n   -0.2222    1.5170    1.7429 H   0  0  0  0  0  0  0  0  0  0  0  0\\n   -0.2222    1.5170    1.7429 H   0  0  0  0  0  0  0  0  0  0  0  0\\n   -0.2222    1.5170    1.7429 H   0  0  0  0  0  0  0  0  0  0  0  0\\n   -0.2222    1.5170    1.7429 H   0  0  0  0  0  0  0  0  0  0  0  0\\n   -0.2222    1.5170    1.7429 H   0  0  0  0  0  0  0  0  0  0  0  0\\n   -0.2222    1.5170    1.7429 H   0  0  0  0  0  0  0  0  0  0  0  0\\n   -0.2222    1.5170    1.7429 H   0  0  0  0  0  0  0  0  0  0  0  0\\n   -0.2222    1.5170    1.7429 H   0  0  0  0  0  0  0  0  0  0  0  0\\n   -0.2222    1.5170    1.7429 H   0  0  0  0  0  0  0  0  0  0  0  0\\n  1 11  2  0\\n  4 20  2  0\\n  6 13  2  0\\n  7 14  1  0\\n  7 15  1  0\\n  8 16  1  0\\n  9 18  1  0\\n 11  5  1  0\\n 11 12  1  0\\n 12  6  1  0\\n 13 14  1  0\\n 14  2  2  0\\n 16 15  1  0\\n 17  3  2  0\\n 17  8  1  0\\n 18 17  1  0\\n 19  9  2  0\\n 20 19  1  0\\n 20 10  1  0\\n 21 10  1  0\\n 22 21  1  0\\n 22  5  1  0\\n 23 12  2  0\\n 23 24  1  0\\n 24 25  2  0\\n 25 13  1  0\\n 26 18  2  0\\n 27 26  1  0\\n 28 27  2  0\\n 28 19  1  0\\n  5 30  1  0\\n  7 31  1  0\\n  8 32  1  0\\n 10 33  1  0\\n 15 34  1  0\\n 15 35  1  0\\n 16 36  1  0\\n 16 37  1  0\\n 21 38  1  0\\n 21 39  1  0\\n 22 40  1  0\\n 22 41  1  0\\n 23 42  1  0\\n 24 43  1  0\\n 25 44  1  0\\n 26 45  1  0\\n 27 46  1  0\\n 28 47  1  0\\n 29 48  1  0\\n 29 49  1  0\\nM  END\\n\",\"sdf\");\n",
       "\tviewer_16963387923959801.addModel(\"m1_h2o_out.xyz\\n     RDKit          3D\\n\\n 49 50  0  0  0  0  0  0  0  0999 V2000\\n   -3.5174   -1.6000    2.6890 O   0  0  0  0  0  0  0  0  0  0  0  0\\n   -2.7390    3.5662   -1.9583 O   0  0  0  0  0  0  0  0  0  0  0  0\\n    3.5904    2.9969    1.4773 O   0  0  0  0  0  0  0  0  0  0  0  0\\n    2.9454   -2.8090   -2.3657 O   0  0  0  0  0  0  0  0  0  0  0  0\\n   -1.5497   -1.8555    1.4825 N   0  0  0  0  0  0  0  0  0  0  0  0\\n   -2.6153    0.6195    0.1101 N   0  0  0  0  0  0  0  0  0  0  0  0\\n   -0.7673    2.5661   -1.2812 N   0  0  0  0  0  0  0  0  0  0  0  0\\n    1.4171    2.4436    0.9142 N   0  0  0  0  0  0  0  0  0  0  0  0\\n    2.6843   -0.0870   -0.1491 N   0  0  0  0  0  0  0  0  0  0  0  0\\n    1.0001   -2.3809   -1.1718 N   0  0  0  0  0  0  0  0  0  0  0  0\\n   -2.8483   -1.2762    1.6708 C   0  0  0  0  0  0  0  0  0  0  0  0\\n   -3.4177   -0.3019    0.7168 C   0  0  0  0  0  0  0  0  0  0  0  0\\n   -3.0979    1.5630   -0.7492 C   0  0  0  0  0  0  0  0  0  0  0  0\\n   -2.2062    2.5956   -1.3543 C   0  0  0  0  0  0  0  0  0  0  0  0\\n    0.0482    1.4306   -0.8598 C   0  0  0  0  0  0  0  0  0  0  0  0\\n    0.3325    1.5039    0.6448 C   0  0  0  0  0  0  0  0  0  0  0  0\\n    2.8175    2.1172    1.0090 C   0  0  0  0  0  0  0  0  0  0  0  0\\n    3.4065    0.8163    0.5748 C   0  0  0  0  0  0  0  0  0  0  0  0\\n    3.2152   -1.2591   -0.6023 C   0  0  0  0  0  0  0  0  0  0  0  0\\n    2.3995   -2.1834   -1.4172 C   0  0  0  0  0  0  0  0  0  0  0  0\\n    0.4540   -2.4573    0.1829 C   0  0  0  0  0  0  0  0  0  0  0  0\\n   -1.0662   -2.2615    0.1631 C   0  0  0  0  0  0  0  0  0  0  0  0\\n   -4.7971   -0.2799    0.4737 C   0  0  0  0  0  0  0  0  0  0  0  0\\n   -5.3219    0.6636   -0.4060 C   0  0  0  0  0  0  0  0  0  0  0  0\\n   -4.4781    1.5879   -1.0200 C   0  0  0  0  0  0  0  0  0  0  0  0\\n    4.7528    0.5288    0.8646 C   0  0  0  0  0  0  0  0  0  0  0  0\\n    5.3227   -0.6576    0.4053 C   0  0  0  0  0  0  0  0  0  0  0  0\\n    4.5594   -1.5531   -0.3395 C   0  0  0  0  0  0  0  0  0  0  0  0\\n   -0.0004    0.4041   -0.0000 O   0  0  0  0  0  0  0  0  0  0  0  0\\n   -0.0000   -0.0000   -0.0000 H   0  0  0  0  0  0  0  0  0  0  0  0\\n   -0.0000   -0.0000   -0.0000 H   0  0  0  0  0  0  0  0  0  0  0  0\\n   -0.0000   -0.0000   -0.0000 H   0  0  0  0  0  0  0  0  0  0  0  0\\n   -0.0000   -0.0000   -0.0000 H   0  0  0  0  0  0  0  0  0  0  0  0\\n   -0.0000   -0.0000   -0.0000 H   0  0  0  0  0  0  0  0  0  0  0  0\\n   -0.0000   -0.0000   -0.0000 H   0  0  0  0  0  0  0  0  0  0  0  0\\n   -0.0000   -0.0000   -0.0000 H   0  0  0  0  0  0  0  0  0  0  0  0\\n   -0.0000   -0.0000   -0.0000 H   0  0  0  0  0  0  0  0  0  0  0  0\\n   -0.0000   -0.0000   -0.0000 H   0  0  0  0  0  0  0  0  0  0  0  0\\n   -0.0000   -0.0000   -0.0000 H   0  0  0  0  0  0  0  0  0  0  0  0\\n   -0.0000   -0.0000   -0.0000 H   0  0  0  0  0  0  0  0  0  0  0  0\\n   -0.0000   -0.0000   -0.0000 H   0  0  0  0  0  0  0  0  0  0  0  0\\n   -0.0000   -0.0000   -0.0000 H   0  0  0  0  0  0  0  0  0  0  0  0\\n   -0.0000   -0.0000   -0.0000 H   0  0  0  0  0  0  0  0  0  0  0  0\\n   -0.0000   -0.0000   -0.0000 H   0  0  0  0  0  0  0  0  0  0  0  0\\n   -0.0000   -0.0000   -0.0000 H   0  0  0  0  0  0  0  0  0  0  0  0\\n   -0.0000   -0.0000   -0.0000 H   0  0  0  0  0  0  0  0  0  0  0  0\\n   -0.0000   -0.0000   -0.0000 H   0  0  0  0  0  0  0  0  0  0  0  0\\n   -0.0000   -0.0000   -0.0000 H   0  0  0  0  0  0  0  0  0  0  0  0\\n   -0.0000   -0.0000   -0.0000 H   0  0  0  0  0  0  0  0  0  0  0  0\\n  1 11  2  0\\n  4 20  2  0\\n  6 13  2  0\\n  7 15  1  0\\n  8 16  1  0\\n  9 18  1  0\\n 11  5  1  0\\n 11 12  1  0\\n 12  6  1  0\\n 13 14  1  0\\n 14  7  1  0\\n 14  2  2  0\\n 16 15  1  0\\n 17  3  2  0\\n 17  8  1  0\\n 18 17  1  0\\n 19  9  2  0\\n 20 19  1  0\\n 20 10  1  0\\n 21 10  1  0\\n 22 21  1  0\\n 22  5  1  0\\n 23 12  2  0\\n 23 24  1  0\\n 24 25  2  0\\n 25 13  1  0\\n 26 18  2  0\\n 27 26  1  0\\n 28 27  2  0\\n 28 19  1  0\\n  5 30  1  0\\n  7 31  1  0\\n  8 32  1  0\\n 10 33  1  0\\n 15 34  1  0\\n 15 35  1  0\\n 16 36  1  0\\n 16 37  1  0\\n 21 38  1  0\\n 21 39  1  0\\n 22 40  1  0\\n 22 41  1  0\\n 23 42  1  0\\n 24 43  1  0\\n 25 44  1  0\\n 26 45  1  0\\n 27 46  1  0\\n 28 47  1  0\\n 29 48  1  0\\n 29 49  1  0\\nM  END\\n\",\"sdf\");\n",
       "\tviewer_16963387923959801.setStyle({\"stick\": {\"radius\": \"0.15\"}});\n",
       "\tviewer_16963387923959801.setBackgroundColor(\"0xeeeeee\");\n",
       "\tviewer_16963387923959801.zoomTo();\n",
       "viewer_16963387923959801.render();\n",
       "});\n",
       "</script>"
      ]
     },
     "metadata": {},
     "output_type": "display_data"
    }
   ],
   "source": [
    "print(\"All the selected conformers (aligned), pre-optimized with MM methods:\")\n",
    "p = align_structures_to_lowest_energy_and_show(moldict, energies, core_smiles)\n",
    "p.show()"
   ]
  },
  {
   "cell_type": "code",
   "execution_count": 14,
   "metadata": {},
   "outputs": [],
   "source": [
    "#Write the selected conformers' names to the list \"list_selected_conformers_from_rdkit\". \n",
    "# It will be used to generate inputs for quantum chemistry calculations:\n",
    "\n",
    "with open(\"/home/gosia/projects/websites/qchemlab-embedding/scripts/analysis/conformer_generation/list_selected_conformers_from_rdkit\", \"w\") as f:\n",
    "    for key, mol in moldict.items():\n",
    "        f.write(key+\"\\n\")\n",
    "\n",
    "energy_sorted = sorted(energies.items(), key=lambda x: x[1])\n",
    "with open(\"/home/gosia/projects/websites/qchemlab-embedding/scripts/analysis/conformer_generation/detailed_list_selected_conformers_from_rdkit\", \"w\") as f:\n",
    "    for pair in energy_sorted:\n",
    "        f.write(\"{0:30}   {1}\\n\".format(pair[0], pair[1])) "
   ]
  },
  {
   "cell_type": "code",
   "execution_count": null,
   "metadata": {},
   "outputs": [],
   "source": []
  }
 ],
 "metadata": {
  "kernelspec": {
   "display_name": "Python 3 (ipykernel)",
   "language": "python",
   "name": "python3"
  },
  "language_info": {
   "codemirror_mode": {
    "name": "ipython",
    "version": 3
   },
   "file_extension": ".py",
   "mimetype": "text/x-python",
   "name": "python",
   "nbconvert_exporter": "python",
   "pygments_lexer": "ipython3",
   "version": "3.9.18"
  }
 },
 "nbformat": 4,
 "nbformat_minor": 4
}
